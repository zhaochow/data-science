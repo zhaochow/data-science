{
 "cells": [
  {
   "cell_type": "markdown",
   "execution_count": null,
   "metadata": {
    "id": "2AOJt83cOMfs",
    "papermill": {
     "duration": 0.012181,
     "end_time": "2020-09-03T00:24:08.380342",
     "exception": false,
     "start_time": "2020-09-03T00:24:08.368161",
     "status": "completed"
    },
    "tags": []
   },
   "source": [
    "# Toxic Comment Classification\n",
    "\n",
    "From Kaggle challenge: https://www.kaggle.com/c/jigsaw-toxic-comment-classification-challenge\n",
    "\n",
    "The objective is to detect the type(s) of toxicity (e.g. threats, obscenity, insults, and identity-based hate) of a comment. One comment can be tagged with multiple types or with none, i.e. non-toxic.\n",
    "\n",
    "In this notebook, we'll build a LSTM network with PyTorch"
   ]
  },
  {
   "cell_type": "markdown",
   "execution_count": null,
   "metadata": {
    "id": "pwEvM2wcOMfu",
    "papermill": {
     "duration": 0.011811,
     "end_time": "2020-09-03T00:24:08.403894",
     "exception": false,
     "start_time": "2020-09-03T00:24:08.392083",
     "status": "completed"
    },
    "tags": []
   },
   "source": [
    "## Libraries"
   ]
  },
  {
   "cell_type": "code",
   "execution_count": 1,
   "metadata": {
    "execution": {
     "iopub.execute_input": "2020-09-03T00:24:08.430931Z",
     "iopub.status.busy": "2020-09-03T00:24:08.430031Z",
     "iopub.status.idle": "2020-09-03T00:24:18.502104Z",
     "shell.execute_reply": "2020-09-03T00:24:18.500252Z"
    },
    "executionInfo": {
     "elapsed": 3952,
     "status": "ok",
     "timestamp": 1599043660770,
     "user": {
      "displayName": "",
      "photoUrl": "",
      "userId": ""
     },
     "user_tz": -540
    },
    "id": "Y5n_2H8Lr5Lr",
    "outputId": "b26b234d-f6fe-436d-e919-a05ae04106da",
    "papermill": {
     "duration": 10.087635,
     "end_time": "2020-09-03T00:24:18.502280",
     "exception": false,
     "start_time": "2020-09-03T00:24:08.414645",
     "status": "completed"
    },
    "tags": []
   },
   "outputs": [
    {
     "name": "stdout",
     "output_type": "stream",
     "text": [
      "Collecting torchsummaryX\r\n",
      "  Downloading torchsummaryX-1.3.0-py3-none-any.whl (3.6 kB)\r\n",
      "Requirement already satisfied: torch in /opt/conda/lib/python3.7/site-packages (from torchsummaryX) (1.5.1)\r\n",
      "Requirement already satisfied: numpy in /opt/conda/lib/python3.7/site-packages (from torchsummaryX) (1.18.5)\r\n",
      "Requirement already satisfied: pandas in /opt/conda/lib/python3.7/site-packages (from torchsummaryX) (1.1.0)\r\n",
      "Requirement already satisfied: future in /opt/conda/lib/python3.7/site-packages (from torch->torchsummaryX) (0.18.2)\r\n",
      "Requirement already satisfied: python-dateutil>=2.7.3 in /opt/conda/lib/python3.7/site-packages (from pandas->torchsummaryX) (2.8.1)\r\n",
      "Requirement already satisfied: pytz>=2017.2 in /opt/conda/lib/python3.7/site-packages (from pandas->torchsummaryX) (2019.3)\r\n",
      "Requirement already satisfied: six>=1.5 in /opt/conda/lib/python3.7/site-packages (from python-dateutil>=2.7.3->pandas->torchsummaryX) (1.14.0)\r\n",
      "Installing collected packages: torchsummaryX\r\n",
      "Successfully installed torchsummaryX-1.3.0\r\n",
      "\u001b[33mWARNING: You are using pip version 20.2.1; however, version 20.2.2 is available.\r\n",
      "You should consider upgrading via the '/opt/conda/bin/python3.7 -m pip install --upgrade pip' command.\u001b[0m\r\n"
     ]
    }
   ],
   "source": [
    "!pip install torchsummaryX"
   ]
  },
  {
   "cell_type": "code",
   "execution_count": 2,
   "metadata": {
    "_cell_guid": "b1076dfc-b9ad-4769-8c92-a6c4dae69d19",
    "_uuid": "8f2839f25d086af736a60e9eeb907d3b93b6e0e5",
    "execution": {
     "iopub.execute_input": "2020-09-03T00:24:18.548071Z",
     "iopub.status.busy": "2020-09-03T00:24:18.547170Z",
     "iopub.status.idle": "2020-09-03T00:24:27.020051Z",
     "shell.execute_reply": "2020-09-03T00:24:27.018842Z"
    },
    "executionInfo": {
     "elapsed": 9104,
     "status": "ok",
     "timestamp": 1599043665940,
     "user": {
      "displayName": "",
      "photoUrl": "",
      "userId": ""
     },
     "user_tz": -540
    },
    "id": "Ulk62O5sOMfv",
    "outputId": "43cac7eb-8acc-451d-94cb-245f8e88c154",
    "papermill": {
     "duration": 8.499436,
     "end_time": "2020-09-03T00:24:27.020182",
     "exception": false,
     "start_time": "2020-09-03T00:24:18.520746",
     "status": "completed"
    },
    "tags": []
   },
   "outputs": [],
   "source": [
    "from collections import Counter\n",
    "import gc\n",
    "import matplotlib.pyplot as plt\n",
    "import numpy as np\n",
    "import os\n",
    "import pandas as pd\n",
    "import seaborn as sns\n",
    "import time\n",
    "from typing import Optional\n",
    "%matplotlib inline\n",
    "\n",
    "from sklearn.metrics import roc_auc_score, roc_curve\n",
    "from sklearn.model_selection import train_test_split\n",
    "\n",
    "from keras.preprocessing.text import text_to_word_sequence, Tokenizer\n",
    "from keras.preprocessing.sequence import pad_sequences\n",
    "\n",
    "import torch\n",
    "import torch.nn as nn\n",
    "import torch.optim as optim\n",
    "from torch.utils.data import DataLoader, Dataset\n",
    "from torchsummaryX import summary"
   ]
  },
  {
   "cell_type": "markdown",
   "execution_count": null,
   "metadata": {
    "id": "n-dj2Sqp8wSc",
    "papermill": {
     "duration": 0.01151,
     "end_time": "2020-09-03T00:24:27.044205",
     "exception": false,
     "start_time": "2020-09-03T00:24:27.032695",
     "status": "completed"
    },
    "tags": []
   },
   "source": [
    "## Custom Functions"
   ]
  },
  {
   "cell_type": "code",
   "execution_count": 3,
   "metadata": {
    "_kg_hide-input": false,
    "cellView": "both",
    "execution": {
     "iopub.execute_input": "2020-09-03T00:24:27.093629Z",
     "iopub.status.busy": "2020-09-03T00:24:27.092892Z",
     "iopub.status.idle": "2020-09-03T00:24:27.096538Z",
     "shell.execute_reply": "2020-09-03T00:24:27.096061Z"
    },
    "executionInfo": {
     "elapsed": 9093,
     "status": "ok",
     "timestamp": 1599043665941,
     "user": {
      "displayName": "",
      "photoUrl": "",
      "userId": ""
     },
     "user_tz": -540
    },
    "id": "V5noq_7n8wSc",
    "papermill": {
     "duration": 0.04087,
     "end_time": "2020-09-03T00:24:27.096635",
     "exception": false,
     "start_time": "2020-09-03T00:24:27.055765",
     "status": "completed"
    },
    "tags": []
   },
   "outputs": [],
   "source": [
    "def train_classifier(model:\"nn.Module\", epochs:int, train_loader:\"DataLoader\", val_loader:\"DataLoader\",\n",
    "                     criterion:\"loss function\", optimizer:\"optim.Optimizer\", device:\"torch.device\",\n",
    "                     scheduler:\"LR scheduler\" = None, threshold:float = 0.5) -> \"List[float]\":\n",
    "    \"\"\"\n",
    "    \"\"\"\n",
    "    lrs = []\n",
    "\n",
    "    for epoch in range(epochs):\n",
    "        print(f'Epoch {epoch + 1}/{epochs} - ', end='')\n",
    "\n",
    "        loss_epoch, val_loss_epoch = 0, 0\n",
    "        acc_epoch, val_acc_epoch = 0, 0\n",
    "        t0 = time.time()\n",
    "\n",
    "        for phase in ['train', 'val']:\n",
    "            running_loss = 0\n",
    "            running_samples = 0\n",
    "            running_corrects = 0\n",
    "            running_tot = 0\n",
    "\n",
    "            if phase == 'train':\n",
    "                model.train()  # Set model to training mode\n",
    "                loader = train_loader\n",
    "                optimizer.zero_grad()\n",
    "            else:\n",
    "                model.eval()   # Set model to evaluate mode\n",
    "                loader = val_loader\n",
    "\n",
    "            for batch in loader:\n",
    "                X, y = batch\n",
    "                X, y = X.to(device), y.to(device)\n",
    "\n",
    "                with torch.set_grad_enabled(phase == 'train'):\n",
    "                    outs = model(X)\n",
    "                    dims = len(y.shape)\n",
    "                    if dims == 1: # Single label\n",
    "                        y_pred = outs.argmax(1)\n",
    "                    else:\n",
    "                        y_pred = outs > threshold\n",
    "                    loss = criterion(outs, y)\n",
    "\n",
    "                    if phase == 'train':\n",
    "                        loss.backward()\n",
    "                        optimizer.step()\n",
    "                        if scheduler is not None:\n",
    "                            scheduler.step()\n",
    "                        optimizer.zero_grad()\n",
    "                        lrs.append(optimizer.param_groups[0]['lr']) # TODO: generalize\n",
    "\n",
    "                running_loss += loss.item() * X.shape[0] # Loss reduction='mean'\n",
    "                running_samples += y.shape[0]\n",
    "                running_corrects += torch.sum(y_pred == y).item()\n",
    "                running_tot += y.nelement()\n",
    "            \n",
    "            if phase == 'train':\n",
    "                loss_epoch = running_loss / running_samples\n",
    "                acc_epoch = running_corrects / running_tot\n",
    "            else:\n",
    "                val_loss_epoch = running_loss / running_samples\n",
    "                val_acc_epoch = running_corrects / running_tot\n",
    "\n",
    "        duration = time.time() - t0\n",
    "        print(f'{duration:.2f}s {duration * 1e3 / (len(train_loader) + len(val_loader)):.2f}ms/step - ', end='')\n",
    "        print(f'loss: {loss_epoch}, acc: {acc_epoch} - val_loss: {val_loss_epoch}, val_acc: {val_acc_epoch}')\n",
    "\n",
    "    return lrs\n",
    "\n",
    "def predict_classes(single:bool, model:\"nn.Module\", loader:\"DataLoader\", device:\"torch.device\",\n",
    "                    threshold:float = 0.5) -> \"Tuple[np.ndarray, np.ndarray]\":\n",
    "    \"\"\"\n",
    "    \"\"\"\n",
    "    probas = []\n",
    "    preds = []\n",
    "    t0 = time.time()\n",
    "    model.eval()   # Set model to evaluate mode\n",
    "\n",
    "    for batch in loader:\n",
    "        X = batch.to(device)\n",
    "\n",
    "        with torch.no_grad():\n",
    "            outs = model(X)\n",
    "            if single: # Single label\n",
    "                y_pred = outs.argmax(1).cpu().numpy()\n",
    "            else:\n",
    "                y_pred = (outs > threshold).cpu().numpy()\n",
    "\n",
    "        probas.append(outs.cpu().numpy())\n",
    "        preds.append(y_pred)\n",
    "\n",
    "    duration = time.time() - t0\n",
    "    print(f'Prediction - {duration:.2f}s')\n",
    "\n",
    "    probas = np.concatenate(probas, axis=0)\n",
    "    preds = np.concatenate(preds, axis=0)\n",
    "\n",
    "    return probas, preds"
   ]
  },
  {
   "cell_type": "markdown",
   "execution_count": null,
   "metadata": {
    "id": "4-SEYgkyOMfz",
    "papermill": {
     "duration": 0.011539,
     "end_time": "2020-09-03T00:24:27.119706",
     "exception": false,
     "start_time": "2020-09-03T00:24:27.108167",
     "status": "completed"
    },
    "tags": []
   },
   "source": [
    "## Data Analysis & Processing"
   ]
  },
  {
   "cell_type": "markdown",
   "execution_count": null,
   "metadata": {
    "id": "EhlyRb4FhgR3",
    "papermill": {
     "duration": 0.011449,
     "end_time": "2020-09-03T00:24:27.142735",
     "exception": false,
     "start_time": "2020-09-03T00:24:27.131286",
     "status": "completed"
    },
    "tags": []
   },
   "source": [
    "### Loading & Inspection"
   ]
  },
  {
   "cell_type": "code",
   "execution_count": 4,
   "metadata": {
    "_cell_guid": "79c7e3d0-c299-4dcb-8224-4455121ee9b0",
    "_uuid": "d629ff2d2480ee46fbb7e2d37f6b5fab8052498a",
    "execution": {
     "iopub.execute_input": "2020-09-03T00:24:27.172527Z",
     "iopub.status.busy": "2020-09-03T00:24:27.171736Z",
     "iopub.status.idle": "2020-09-03T00:24:29.349971Z",
     "shell.execute_reply": "2020-09-03T00:24:29.348887Z"
    },
    "executionInfo": {
     "elapsed": 15489,
     "status": "ok",
     "timestamp": 1599043672360,
     "user": {
      "displayName": "",
      "photoUrl": "",
      "userId": ""
     },
     "user_tz": -540
    },
    "id": "IArJ98NlOMfz",
    "papermill": {
     "duration": 2.195811,
     "end_time": "2020-09-03T00:24:29.350092",
     "exception": false,
     "start_time": "2020-09-03T00:24:27.154281",
     "status": "completed"
    },
    "tags": []
   },
   "outputs": [],
   "source": [
    "train = pd.read_csv('../input/jigsaw-toxic-comment-classification-challenge/train.csv.zip')\n",
    "test = pd.read_csv('../input/jigsaw-toxic-comment-classification-challenge/test.csv.zip')"
   ]
  },
  {
   "cell_type": "code",
   "execution_count": 5,
   "metadata": {
    "execution": {
     "iopub.execute_input": "2020-09-03T00:24:29.381556Z",
     "iopub.status.busy": "2020-09-03T00:24:29.380427Z",
     "iopub.status.idle": "2020-09-03T00:24:29.384073Z",
     "shell.execute_reply": "2020-09-03T00:24:29.383454Z"
    },
    "executionInfo": {
     "elapsed": 15481,
     "status": "ok",
     "timestamp": 1599043672361,
     "user": {
      "displayName": "",
      "photoUrl": "",
      "userId": ""
     },
     "user_tz": -540
    },
    "id": "lDCUd2MQOMf2",
    "papermill": {
     "duration": 0.021748,
     "end_time": "2020-09-03T00:24:29.384178",
     "exception": false,
     "start_time": "2020-09-03T00:24:29.362430",
     "status": "completed"
    },
    "tags": []
   },
   "outputs": [
    {
     "name": "stdout",
     "output_type": "stream",
     "text": [
      "Size of dataset - train: (159571, 8), test: (153164, 2)\n"
     ]
    }
   ],
   "source": [
    "print(f'Size of dataset - train: {train.shape}, test: {test.shape}')"
   ]
  },
  {
   "cell_type": "code",
   "execution_count": 6,
   "metadata": {
    "execution": {
     "iopub.execute_input": "2020-09-03T00:24:29.423690Z",
     "iopub.status.busy": "2020-09-03T00:24:29.423126Z",
     "iopub.status.idle": "2020-09-03T00:24:29.435429Z",
     "shell.execute_reply": "2020-09-03T00:24:29.434959Z"
    },
    "executionInfo": {
     "elapsed": 15472,
     "status": "ok",
     "timestamp": 1599043672362,
     "user": {
      "displayName": "",
      "photoUrl": "",
      "userId": ""
     },
     "user_tz": -540
    },
    "id": "YWpKCSP0OMf4",
    "papermill": {
     "duration": 0.039512,
     "end_time": "2020-09-03T00:24:29.435527",
     "exception": false,
     "start_time": "2020-09-03T00:24:29.396015",
     "status": "completed"
    },
    "tags": []
   },
   "outputs": [
    {
     "data": {
      "text/html": [
       "<div>\n",
       "<style scoped>\n",
       "    .dataframe tbody tr th:only-of-type {\n",
       "        vertical-align: middle;\n",
       "    }\n",
       "\n",
       "    .dataframe tbody tr th {\n",
       "        vertical-align: top;\n",
       "    }\n",
       "\n",
       "    .dataframe thead th {\n",
       "        text-align: right;\n",
       "    }\n",
       "</style>\n",
       "<table border=\"1\" class=\"dataframe\">\n",
       "  <thead>\n",
       "    <tr style=\"text-align: right;\">\n",
       "      <th></th>\n",
       "      <th>id</th>\n",
       "      <th>comment_text</th>\n",
       "      <th>toxic</th>\n",
       "      <th>severe_toxic</th>\n",
       "      <th>obscene</th>\n",
       "      <th>threat</th>\n",
       "      <th>insult</th>\n",
       "      <th>identity_hate</th>\n",
       "    </tr>\n",
       "  </thead>\n",
       "  <tbody>\n",
       "    <tr>\n",
       "      <th>0</th>\n",
       "      <td>0000997932d777bf</td>\n",
       "      <td>Explanation\\nWhy the edits made under my usern...</td>\n",
       "      <td>0</td>\n",
       "      <td>0</td>\n",
       "      <td>0</td>\n",
       "      <td>0</td>\n",
       "      <td>0</td>\n",
       "      <td>0</td>\n",
       "    </tr>\n",
       "    <tr>\n",
       "      <th>1</th>\n",
       "      <td>000103f0d9cfb60f</td>\n",
       "      <td>D'aww! He matches this background colour I'm s...</td>\n",
       "      <td>0</td>\n",
       "      <td>0</td>\n",
       "      <td>0</td>\n",
       "      <td>0</td>\n",
       "      <td>0</td>\n",
       "      <td>0</td>\n",
       "    </tr>\n",
       "    <tr>\n",
       "      <th>2</th>\n",
       "      <td>000113f07ec002fd</td>\n",
       "      <td>Hey man, I'm really not trying to edit war. It...</td>\n",
       "      <td>0</td>\n",
       "      <td>0</td>\n",
       "      <td>0</td>\n",
       "      <td>0</td>\n",
       "      <td>0</td>\n",
       "      <td>0</td>\n",
       "    </tr>\n",
       "    <tr>\n",
       "      <th>3</th>\n",
       "      <td>0001b41b1c6bb37e</td>\n",
       "      <td>\"\\nMore\\nI can't make any real suggestions on ...</td>\n",
       "      <td>0</td>\n",
       "      <td>0</td>\n",
       "      <td>0</td>\n",
       "      <td>0</td>\n",
       "      <td>0</td>\n",
       "      <td>0</td>\n",
       "    </tr>\n",
       "    <tr>\n",
       "      <th>4</th>\n",
       "      <td>0001d958c54c6e35</td>\n",
       "      <td>You, sir, are my hero. Any chance you remember...</td>\n",
       "      <td>0</td>\n",
       "      <td>0</td>\n",
       "      <td>0</td>\n",
       "      <td>0</td>\n",
       "      <td>0</td>\n",
       "      <td>0</td>\n",
       "    </tr>\n",
       "  </tbody>\n",
       "</table>\n",
       "</div>"
      ],
      "text/plain": [
       "                 id                                       comment_text  toxic  \\\n",
       "0  0000997932d777bf  Explanation\\nWhy the edits made under my usern...      0   \n",
       "1  000103f0d9cfb60f  D'aww! He matches this background colour I'm s...      0   \n",
       "2  000113f07ec002fd  Hey man, I'm really not trying to edit war. It...      0   \n",
       "3  0001b41b1c6bb37e  \"\\nMore\\nI can't make any real suggestions on ...      0   \n",
       "4  0001d958c54c6e35  You, sir, are my hero. Any chance you remember...      0   \n",
       "\n",
       "   severe_toxic  obscene  threat  insult  identity_hate  \n",
       "0             0        0       0       0              0  \n",
       "1             0        0       0       0              0  \n",
       "2             0        0       0       0              0  \n",
       "3             0        0       0       0              0  \n",
       "4             0        0       0       0              0  "
      ]
     },
     "execution_count": 6,
     "metadata": {},
     "output_type": "execute_result"
    }
   ],
   "source": [
    "train.head()"
   ]
  },
  {
   "cell_type": "code",
   "execution_count": 7,
   "metadata": {
    "execution": {
     "iopub.execute_input": "2020-09-03T00:24:29.468846Z",
     "iopub.status.busy": "2020-09-03T00:24:29.468171Z",
     "iopub.status.idle": "2020-09-03T00:24:29.471641Z",
     "shell.execute_reply": "2020-09-03T00:24:29.472136Z"
    },
    "executionInfo": {
     "elapsed": 15463,
     "status": "ok",
     "timestamp": 1599043672362,
     "user": {
      "displayName": "",
      "photoUrl": "",
      "userId": ""
     },
     "user_tz": -540
    },
    "id": "w2RMzUBeOMf7",
    "papermill": {
     "duration": 0.02482,
     "end_time": "2020-09-03T00:24:29.472269",
     "exception": false,
     "start_time": "2020-09-03T00:24:29.447449",
     "status": "completed"
    },
    "tags": []
   },
   "outputs": [
    {
     "data": {
      "text/html": [
       "<div>\n",
       "<style scoped>\n",
       "    .dataframe tbody tr th:only-of-type {\n",
       "        vertical-align: middle;\n",
       "    }\n",
       "\n",
       "    .dataframe tbody tr th {\n",
       "        vertical-align: top;\n",
       "    }\n",
       "\n",
       "    .dataframe thead th {\n",
       "        text-align: right;\n",
       "    }\n",
       "</style>\n",
       "<table border=\"1\" class=\"dataframe\">\n",
       "  <thead>\n",
       "    <tr style=\"text-align: right;\">\n",
       "      <th></th>\n",
       "      <th>id</th>\n",
       "      <th>comment_text</th>\n",
       "    </tr>\n",
       "  </thead>\n",
       "  <tbody>\n",
       "    <tr>\n",
       "      <th>0</th>\n",
       "      <td>00001cee341fdb12</td>\n",
       "      <td>Yo bitch Ja Rule is more succesful then you'll...</td>\n",
       "    </tr>\n",
       "    <tr>\n",
       "      <th>1</th>\n",
       "      <td>0000247867823ef7</td>\n",
       "      <td>== From RfC == \\n\\n The title is fine as it is...</td>\n",
       "    </tr>\n",
       "    <tr>\n",
       "      <th>2</th>\n",
       "      <td>00013b17ad220c46</td>\n",
       "      <td>\" \\n\\n == Sources == \\n\\n * Zawe Ashton on Lap...</td>\n",
       "    </tr>\n",
       "    <tr>\n",
       "      <th>3</th>\n",
       "      <td>00017563c3f7919a</td>\n",
       "      <td>:If you have a look back at the source, the in...</td>\n",
       "    </tr>\n",
       "    <tr>\n",
       "      <th>4</th>\n",
       "      <td>00017695ad8997eb</td>\n",
       "      <td>I don't anonymously edit articles at all.</td>\n",
       "    </tr>\n",
       "  </tbody>\n",
       "</table>\n",
       "</div>"
      ],
      "text/plain": [
       "                 id                                       comment_text\n",
       "0  00001cee341fdb12  Yo bitch Ja Rule is more succesful then you'll...\n",
       "1  0000247867823ef7  == From RfC == \\n\\n The title is fine as it is...\n",
       "2  00013b17ad220c46  \" \\n\\n == Sources == \\n\\n * Zawe Ashton on Lap...\n",
       "3  00017563c3f7919a  :If you have a look back at the source, the in...\n",
       "4  00017695ad8997eb          I don't anonymously edit articles at all."
      ]
     },
     "execution_count": 7,
     "metadata": {},
     "output_type": "execute_result"
    }
   ],
   "source": [
    "test.head()"
   ]
  },
  {
   "cell_type": "code",
   "execution_count": 8,
   "metadata": {
    "execution": {
     "iopub.execute_input": "2020-09-03T00:24:29.537176Z",
     "iopub.status.busy": "2020-09-03T00:24:29.536308Z",
     "iopub.status.idle": "2020-09-03T00:24:29.543530Z",
     "shell.execute_reply": "2020-09-03T00:24:29.543057Z"
    },
    "executionInfo": {
     "elapsed": 15454,
     "status": "ok",
     "timestamp": 1599043672363,
     "user": {
      "displayName": "",
      "photoUrl": "",
      "userId": ""
     },
     "user_tz": -540
    },
    "id": "XD2gsuZzOMf9",
    "papermill": {
     "duration": 0.059038,
     "end_time": "2020-09-03T00:24:29.543627",
     "exception": false,
     "start_time": "2020-09-03T00:24:29.484589",
     "status": "completed"
    },
    "tags": []
   },
   "outputs": [
    {
     "data": {
      "text/plain": [
       "id               False\n",
       "comment_text     False\n",
       "toxic            False\n",
       "severe_toxic     False\n",
       "obscene          False\n",
       "threat           False\n",
       "insult           False\n",
       "identity_hate    False\n",
       "dtype: bool"
      ]
     },
     "execution_count": 8,
     "metadata": {},
     "output_type": "execute_result"
    }
   ],
   "source": [
    "train.isnull().any()"
   ]
  },
  {
   "cell_type": "markdown",
   "execution_count": null,
   "metadata": {
    "id": "HrWv4ueYOMf_",
    "papermill": {
     "duration": 0.012201,
     "end_time": "2020-09-03T00:24:29.568234",
     "exception": false,
     "start_time": "2020-09-03T00:24:29.556033",
     "status": "completed"
    },
    "tags": []
   },
   "source": [
    "There are no missing values\n",
    "\n",
    "Let's add a new column for *normal* comments (i.e. non-toxic) and investigate the distribution of the data"
   ]
  },
  {
   "cell_type": "code",
   "execution_count": 9,
   "metadata": {
    "execution": {
     "iopub.execute_input": "2020-09-03T00:24:29.607036Z",
     "iopub.status.busy": "2020-09-03T00:24:29.606415Z",
     "iopub.status.idle": "2020-09-03T00:24:29.640095Z",
     "shell.execute_reply": "2020-09-03T00:24:29.640681Z"
    },
    "executionInfo": {
     "elapsed": 15445,
     "status": "ok",
     "timestamp": 1599043672364,
     "user": {
      "displayName": "",
      "photoUrl": "",
      "userId": ""
     },
     "user_tz": -540
    },
    "id": "j8iHH-lROMgA",
    "papermill": {
     "duration": 0.059959,
     "end_time": "2020-09-03T00:24:29.640831",
     "exception": false,
     "start_time": "2020-09-03T00:24:29.580872",
     "status": "completed"
    },
    "tags": []
   },
   "outputs": [
    {
     "data": {
      "text/html": [
       "<div>\n",
       "<style scoped>\n",
       "    .dataframe tbody tr th:only-of-type {\n",
       "        vertical-align: middle;\n",
       "    }\n",
       "\n",
       "    .dataframe tbody tr th {\n",
       "        vertical-align: top;\n",
       "    }\n",
       "\n",
       "    .dataframe thead th {\n",
       "        text-align: right;\n",
       "    }\n",
       "</style>\n",
       "<table border=\"1\" class=\"dataframe\">\n",
       "  <thead>\n",
       "    <tr style=\"text-align: right;\">\n",
       "      <th></th>\n",
       "      <th>id</th>\n",
       "      <th>comment_text</th>\n",
       "      <th>toxic</th>\n",
       "      <th>severe_toxic</th>\n",
       "      <th>obscene</th>\n",
       "      <th>threat</th>\n",
       "      <th>insult</th>\n",
       "      <th>identity_hate</th>\n",
       "      <th>normal</th>\n",
       "    </tr>\n",
       "  </thead>\n",
       "  <tbody>\n",
       "    <tr>\n",
       "      <th>0</th>\n",
       "      <td>0000997932d777bf</td>\n",
       "      <td>Explanation\\nWhy the edits made under my usern...</td>\n",
       "      <td>0</td>\n",
       "      <td>0</td>\n",
       "      <td>0</td>\n",
       "      <td>0</td>\n",
       "      <td>0</td>\n",
       "      <td>0</td>\n",
       "      <td>1</td>\n",
       "    </tr>\n",
       "    <tr>\n",
       "      <th>1</th>\n",
       "      <td>000103f0d9cfb60f</td>\n",
       "      <td>D'aww! He matches this background colour I'm s...</td>\n",
       "      <td>0</td>\n",
       "      <td>0</td>\n",
       "      <td>0</td>\n",
       "      <td>0</td>\n",
       "      <td>0</td>\n",
       "      <td>0</td>\n",
       "      <td>1</td>\n",
       "    </tr>\n",
       "    <tr>\n",
       "      <th>2</th>\n",
       "      <td>000113f07ec002fd</td>\n",
       "      <td>Hey man, I'm really not trying to edit war. It...</td>\n",
       "      <td>0</td>\n",
       "      <td>0</td>\n",
       "      <td>0</td>\n",
       "      <td>0</td>\n",
       "      <td>0</td>\n",
       "      <td>0</td>\n",
       "      <td>1</td>\n",
       "    </tr>\n",
       "    <tr>\n",
       "      <th>3</th>\n",
       "      <td>0001b41b1c6bb37e</td>\n",
       "      <td>\"\\nMore\\nI can't make any real suggestions on ...</td>\n",
       "      <td>0</td>\n",
       "      <td>0</td>\n",
       "      <td>0</td>\n",
       "      <td>0</td>\n",
       "      <td>0</td>\n",
       "      <td>0</td>\n",
       "      <td>1</td>\n",
       "    </tr>\n",
       "    <tr>\n",
       "      <th>4</th>\n",
       "      <td>0001d958c54c6e35</td>\n",
       "      <td>You, sir, are my hero. Any chance you remember...</td>\n",
       "      <td>0</td>\n",
       "      <td>0</td>\n",
       "      <td>0</td>\n",
       "      <td>0</td>\n",
       "      <td>0</td>\n",
       "      <td>0</td>\n",
       "      <td>1</td>\n",
       "    </tr>\n",
       "  </tbody>\n",
       "</table>\n",
       "</div>"
      ],
      "text/plain": [
       "                 id                                       comment_text  toxic  \\\n",
       "0  0000997932d777bf  Explanation\\nWhy the edits made under my usern...      0   \n",
       "1  000103f0d9cfb60f  D'aww! He matches this background colour I'm s...      0   \n",
       "2  000113f07ec002fd  Hey man, I'm really not trying to edit war. It...      0   \n",
       "3  0001b41b1c6bb37e  \"\\nMore\\nI can't make any real suggestions on ...      0   \n",
       "4  0001d958c54c6e35  You, sir, are my hero. Any chance you remember...      0   \n",
       "\n",
       "   severe_toxic  obscene  threat  insult  identity_hate  normal  \n",
       "0             0        0       0       0              0       1  \n",
       "1             0        0       0       0              0       1  \n",
       "2             0        0       0       0              0       1  \n",
       "3             0        0       0       0              0       1  \n",
       "4             0        0       0       0              0       1  "
      ]
     },
     "execution_count": 9,
     "metadata": {},
     "output_type": "execute_result"
    }
   ],
   "source": [
    "# Add column 'normal' for non-toxic comments\n",
    "train['normal'] = (train.loc[:, 'toxic':'identity_hate'].sum(axis=1) < 1).astype(int)\n",
    "train.head()"
   ]
  },
  {
   "cell_type": "code",
   "execution_count": 10,
   "metadata": {
    "execution": {
     "iopub.execute_input": "2020-09-03T00:24:29.677318Z",
     "iopub.status.busy": "2020-09-03T00:24:29.676060Z",
     "iopub.status.idle": "2020-09-03T00:24:29.903301Z",
     "shell.execute_reply": "2020-09-03T00:24:29.903784Z"
    },
    "executionInfo": {
     "elapsed": 15435,
     "status": "ok",
     "timestamp": 1599043672364,
     "user": {
      "displayName": "",
      "photoUrl": "",
      "userId": ""
     },
     "user_tz": -540
    },
    "id": "u06IF9vsOMgE",
    "papermill": {
     "duration": 0.250355,
     "end_time": "2020-09-03T00:24:29.903954",
     "exception": false,
     "start_time": "2020-09-03T00:24:29.653599",
     "status": "completed"
    },
    "tags": []
   },
   "outputs": [
    {
     "data": {
      "image/png": "[encoded data removed]",
      "text/plain": [
       "<Figure size 1296x432 with 1 Axes>"
      ]
     },
     "metadata": {
      "needs_background": "light"
     },
     "output_type": "display_data"
    }
   ],
   "source": [
    "tmp = train.loc[:, 'toxic':'normal'].sum().reset_index()\n",
    "tmp.columns = ['label', 'count']\n",
    "plt.figure(figsize=(18, 6))\n",
    "ax = sns.barplot(x='label', y='count', data=tmp)"
   ]
  },
  {
   "cell_type": "markdown",
   "execution_count": null,
   "metadata": {
    "id": "ZVjJvA94OMgI",
    "papermill": {
     "duration": 0.013135,
     "end_time": "2020-09-03T00:24:29.930809",
     "exception": false,
     "start_time": "2020-09-03T00:24:29.917674",
     "status": "completed"
    },
    "tags": []
   },
   "source": [
    "There is a majority of non-toxic comments while there are some toxic labels that appear more frequently than others"
   ]
  },
  {
   "cell_type": "markdown",
   "execution_count": null,
   "metadata": {
    "id": "B2eopaFTht9q",
    "papermill": {
     "duration": 0.012888,
     "end_time": "2020-09-03T00:24:29.956644",
     "exception": false,
     "start_time": "2020-09-03T00:24:29.943756",
     "status": "completed"
    },
    "tags": []
   },
   "source": [
    "### Tokenization"
   ]
  },
  {
   "cell_type": "code",
   "execution_count": 11,
   "metadata": {
    "execution": {
     "iopub.execute_input": "2020-09-03T00:24:30.033510Z",
     "iopub.status.busy": "2020-09-03T00:24:30.023240Z",
     "iopub.status.idle": "2020-09-03T00:24:41.550017Z",
     "shell.execute_reply": "2020-09-03T00:24:41.549247Z"
    },
    "executionInfo": {
     "elapsed": 22780,
     "status": "ok",
     "timestamp": 1599043679719,
     "user": {
      "displayName": "",
      "photoUrl": "",
      "userId": ""
     },
     "user_tz": -540
    },
    "id": "dVhmhxquOMgI",
    "papermill": {
     "duration": 11.580584,
     "end_time": "2020-09-03T00:24:41.550132",
     "exception": false,
     "start_time": "2020-09-03T00:24:29.969548",
     "status": "completed"
    },
    "tags": []
   },
   "outputs": [],
   "source": [
    "train_texts = train[\"comment_text\"]\n",
    "test_texts = test[\"comment_text\"]\n",
    "\n",
    "train_tokens_raw = [text_to_word_sequence(text) for text in train_texts]\n",
    "test_tokens_raw = [text_to_word_sequence(text) for text in test_texts]"
   ]
  },
  {
   "cell_type": "code",
   "execution_count": 12,
   "metadata": {
    "execution": {
     "iopub.execute_input": "2020-09-03T00:24:41.604870Z",
     "iopub.status.busy": "2020-09-03T00:24:41.599592Z",
     "iopub.status.idle": "2020-09-03T00:24:42.237677Z",
     "shell.execute_reply": "2020-09-03T00:24:42.238177Z"
    },
    "executionInfo": {
     "elapsed": 22774,
     "status": "ok",
     "timestamp": 1599043679721,
     "user": {
      "displayName": "",
      "photoUrl": "",
      "userId": ""
     },
     "user_tz": -540
    },
    "id": "5GsPgNE7tdBw",
    "papermill": {
     "duration": 0.674775,
     "end_time": "2020-09-03T00:24:42.238308",
     "exception": false,
     "start_time": "2020-09-03T00:24:41.563533",
     "status": "completed"
    },
    "tags": []
   },
   "outputs": [
    {
     "data": {
      "image/png": "[encoded data removed]",
      "text/plain": [
       "<Figure size 1296x432 with 2 Axes>"
      ]
     },
     "metadata": {
      "needs_background": "light"
     },
     "output_type": "display_data"
    }
   ],
   "source": [
    "train_sentence_len = [len(sentence) for sentence in train_tokens_raw]\n",
    "test_sentence_len = [len(sentence) for sentence in test_tokens_raw]\n",
    "\n",
    "fig, ax = plt.subplots(1, 2, figsize=(18, 6))\n",
    "sns.distplot(train_sentence_len, ax=ax[0])\n",
    "ax[0].set_xlabel('Sentence length')\n",
    "ax[0].set_title('Train')\n",
    "sns.distplot(test_sentence_len, ax=ax[1])\n",
    "ax[1].set_xlabel('Sentence length')\n",
    "_ = ax[1].set_title('Test')"
   ]
  },
  {
   "cell_type": "code",
   "execution_count": 13,
   "metadata": {
    "execution": {
     "iopub.execute_input": "2020-09-03T00:24:42.273621Z",
     "iopub.status.busy": "2020-09-03T00:24:42.273051Z",
     "iopub.status.idle": "2020-09-03T00:24:42.829871Z",
     "shell.execute_reply": "2020-09-03T00:24:42.828800Z"
    },
    "executionInfo": {
     "elapsed": 22765,
     "status": "ok",
     "timestamp": 1599043679721,
     "user": {
      "displayName": "",
      "photoUrl": "",
      "userId": ""
     },
     "user_tz": -540
    },
    "id": "mYM8qhpdxr_8",
    "papermill": {
     "duration": 0.5779,
     "end_time": "2020-09-03T00:24:42.829979",
     "exception": false,
     "start_time": "2020-09-03T00:24:42.252079",
     "status": "completed"
    },
    "tags": []
   },
   "outputs": [
    {
     "data": {
      "image/png": "[encoded data removed]",
      "text/plain": [
       "<Figure size 1296x432 with 2 Axes>"
      ]
     },
     "metadata": {
      "needs_background": "light"
     },
     "output_type": "display_data"
    }
   ],
   "source": [
    "fig, ax = plt.subplots(1, 2, figsize=(18, 6))\n",
    "ax[0].hist(train_sentence_len, bins=np.arange(0, 500, 10))\n",
    "ax[0].set_xlabel('Sentence length')\n",
    "ax[0].set_ylabel('Count')\n",
    "ax[0].set_title('Train')\n",
    "ax[1].hist(test_sentence_len, bins=np.arange(0, 500, 10))\n",
    "ax[1].set_xlabel('Sentence length')\n",
    "ax[1].set_ylabel('Count')\n",
    "_ = ax[1].set_title('Test')"
   ]
  },
  {
   "cell_type": "markdown",
   "execution_count": null,
   "metadata": {
    "id": "DvyNTVYLyjs-",
    "papermill": {
     "duration": 0.013429,
     "end_time": "2020-09-03T00:24:42.857384",
     "exception": false,
     "start_time": "2020-09-03T00:24:42.843955",
     "status": "completed"
    },
    "tags": []
   },
   "source": [
    "Most of the sentences don't have that many tokens. We'll use a fixed length sequence model later on and 200 seems to be a good value for the maximum sequence length"
   ]
  },
  {
   "cell_type": "code",
   "execution_count": 14,
   "metadata": {
    "execution": {
     "iopub.execute_input": "2020-09-03T00:24:42.928485Z",
     "iopub.status.busy": "2020-09-03T00:24:42.908044Z",
     "iopub.status.idle": "2020-09-03T00:24:47.045241Z",
     "shell.execute_reply": "2020-09-03T00:24:47.045736Z"
    },
    "executionInfo": {
     "elapsed": 22757,
     "status": "ok",
     "timestamp": 1599043679722,
     "user": {
      "displayName": "",
      "photoUrl": "",
      "userId": ""
     },
     "user_tz": -540
    },
    "id": "68L7x9nzOj9C",
    "papermill": {
     "duration": 4.174919,
     "end_time": "2020-09-03T00:24:47.045885",
     "exception": false,
     "start_time": "2020-09-03T00:24:42.870966",
     "status": "completed"
    },
    "tags": []
   },
   "outputs": [
    {
     "name": "stdout",
     "output_type": "stream",
     "text": [
      "Number of unique words in dataset - train: 210337, test: 273192\n"
     ]
    }
   ],
   "source": [
    "def get_counter(seq_list):\n",
    "    counter = Counter()\n",
    "    for seq in seq_list:\n",
    "        counter.update(seq)\n",
    "    return counter\n",
    "\n",
    "train_counter = get_counter(train_tokens_raw)\n",
    "test_counter = get_counter(test_tokens_raw)\n",
    "\n",
    "print(f'Number of unique words in dataset - train: {len(train_counter.keys())}, test: {len(test_counter.keys())}')"
   ]
  },
  {
   "cell_type": "markdown",
   "execution_count": null,
   "metadata": {
    "id": "ootzepf3xOR4",
    "papermill": {
     "duration": 0.014104,
     "end_time": "2020-09-03T00:24:47.074113",
     "exception": false,
     "start_time": "2020-09-03T00:24:47.060009",
     "status": "completed"
    },
    "tags": []
   },
   "source": [
    "There are more unique words in the test set than the training one\n",
    "\n",
    "Now let's look at the the frequency of the words in the training set before deciding how many to keep in our vocabulary for training the model (we can go further by looking at the test set too)"
   ]
  },
  {
   "cell_type": "code",
   "execution_count": 15,
   "metadata": {
    "execution": {
     "iopub.execute_input": "2020-09-03T00:24:47.182759Z",
     "iopub.status.busy": "2020-09-03T00:24:47.181010Z",
     "iopub.status.idle": "2020-09-03T00:24:47.982023Z",
     "shell.execute_reply": "2020-09-03T00:24:47.982509Z"
    },
    "executionInfo": {
     "elapsed": 22748,
     "status": "ok",
     "timestamp": 1599043679722,
     "user": {
      "displayName": "",
      "photoUrl": "",
      "userId": ""
     },
     "user_tz": -540
    },
    "id": "L17Fm1Ny3a-N",
    "papermill": {
     "duration": 0.894929,
     "end_time": "2020-09-03T00:24:47.982638",
     "exception": false,
     "start_time": "2020-09-03T00:24:47.087709",
     "status": "completed"
    },
    "tags": []
   },
   "outputs": [
    {
     "data": {
      "image/png": "[encoded data removed]",
      "text/plain": [
       "<Figure size 1296x432 with 1 Axes>"
      ]
     },
     "metadata": {
      "needs_background": "light"
     },
     "output_type": "display_data"
    }
   ],
   "source": [
    "bins = 100\n",
    "most_common_cnts = sorted(train_counter.values(), reverse=True)\n",
    "step = int(np.ceil(len(most_common_cnts) / bins))\n",
    "binned = [np.sum(most_common_cnts[i*step:(i+1)*step]) for i in range(bins)]\n",
    "idx = np.arange(0, step*bins, step)\n",
    "\n",
    "fig, ax = plt.subplots(1, 1, figsize=(18, 6))\n",
    "ax.bar(idx, binned, width=step)\n",
    "ax.set_xlabel('$n$ first most common words')\n",
    "ax.set_ylabel('Count')\n",
    "ax.set_yscale('log')\n",
    "_ = ax.hlines(step, 0, 1, transform=ax.get_yaxis_transform(), colors='r') # All words appear only once"
   ]
  },
  {
   "cell_type": "code",
   "execution_count": 16,
   "metadata": {
    "execution": {
     "iopub.execute_input": "2020-09-03T00:24:48.024933Z",
     "iopub.status.busy": "2020-09-03T00:24:48.023912Z",
     "iopub.status.idle": "2020-09-03T00:24:48.495242Z",
     "shell.execute_reply": "2020-09-03T00:24:48.495717Z"
    },
    "executionInfo": {
     "elapsed": 22740,
     "status": "ok",
     "timestamp": 1599043679723,
     "user": {
      "displayName": "",
      "photoUrl": "",
      "userId": ""
     },
     "user_tz": -540
    },
    "id": "xbREzNKq28gR",
    "papermill": {
     "duration": 0.49839,
     "end_time": "2020-09-03T00:24:48.495862",
     "exception": false,
     "start_time": "2020-09-03T00:24:47.997472",
     "status": "completed"
    },
    "tags": []
   },
   "outputs": [
    {
     "data": {
      "image/png": "[encoded data removed]",
      "text/plain": [
       "<Figure size 1296x432 with 1 Axes>"
      ]
     },
     "metadata": {
      "needs_background": "light"
     },
     "output_type": "display_data"
    }
   ],
   "source": [
    "fig, ax = plt.subplots(1, 1, figsize=(18, 6))\n",
    "ax.bar(idx[:40], binned[:40], width=step)\n",
    "ax.set_xlabel('$n$ first most common words')\n",
    "ax.set_ylabel('Count')\n",
    "ax.set_yscale('log')\n",
    "_ = ax.hlines(step, 0, 1, transform=ax.get_yaxis_transform(), colors='r') # All words appear only once"
   ]
  },
  {
   "cell_type": "markdown",
   "execution_count": null,
   "metadata": {
    "id": "J5Tc2kgHBmwK",
    "papermill": {
     "duration": 0.013981,
     "end_time": "2020-09-03T00:24:48.524452",
     "exception": false,
     "start_time": "2020-09-03T00:24:48.510471",
     "status": "completed"
    },
    "tags": []
   },
   "source": [
    "Many words only appear once and might thus not be very relevant so we can exclude them from the final vocabulary. For now, let's keep only the first 20 000 most common words"
   ]
  },
  {
   "cell_type": "markdown",
   "execution_count": null,
   "metadata": {
    "id": "lJphCTQriUnB",
    "papermill": {
     "duration": 0.013888,
     "end_time": "2020-09-03T00:24:48.552515",
     "exception": false,
     "start_time": "2020-09-03T00:24:48.538627",
     "status": "completed"
    },
    "tags": []
   },
   "source": [
    "### Numericalization"
   ]
  },
  {
   "cell_type": "code",
   "execution_count": 17,
   "metadata": {
    "execution": {
     "iopub.execute_input": "2020-09-03T00:24:48.609006Z",
     "iopub.status.busy": "2020-09-03T00:24:48.598734Z",
     "iopub.status.idle": "2020-09-03T00:25:28.310161Z",
     "shell.execute_reply": "2020-09-03T00:25:28.309449Z"
    },
    "executionInfo": {
     "elapsed": 46022,
     "status": "ok",
     "timestamp": 1599043703014,
     "user": {
      "displayName": "",
      "photoUrl": "",
      "userId": ""
     },
     "user_tz": -540
    },
    "id": "PYT3_oUjS1Hd",
    "papermill": {
     "duration": 39.743755,
     "end_time": "2020-09-03T00:25:28.310277",
     "exception": false,
     "start_time": "2020-09-03T00:24:48.566522",
     "status": "completed"
    },
    "tags": []
   },
   "outputs": [],
   "source": [
    "seq_len = 200\n",
    "max_vocab = 20000\n",
    "\n",
    "tokenizer = Tokenizer(num_words=max_vocab)\n",
    "tokenizer.fit_on_texts(train_texts)\n",
    "\n",
    "train_tokens_id = pad_sequences(tokenizer.texts_to_sequences(train_texts), maxlen=seq_len)\n",
    "test_tokens_id = pad_sequences(tokenizer.texts_to_sequences(test_texts), maxlen=seq_len)"
   ]
  },
  {
   "cell_type": "markdown",
   "execution_count": null,
   "metadata": {
    "id": "stCVMCwKmDTo",
    "papermill": {
     "duration": 0.014017,
     "end_time": "2020-09-03T00:25:28.339710",
     "exception": false,
     "start_time": "2020-09-03T00:25:28.325693",
     "status": "completed"
    },
    "tags": []
   },
   "source": [
    "## Dataset Preparation"
   ]
  },
  {
   "cell_type": "code",
   "execution_count": 18,
   "metadata": {
    "execution": {
     "iopub.execute_input": "2020-09-03T00:25:28.385190Z",
     "iopub.status.busy": "2020-09-03T00:25:28.384403Z",
     "iopub.status.idle": "2020-09-03T00:25:28.723760Z",
     "shell.execute_reply": "2020-09-03T00:25:28.724257Z"
    },
    "executionInfo": {
     "elapsed": 46014,
     "status": "ok",
     "timestamp": 1599043703015,
     "user": {
      "displayName": "",
      "photoUrl": "",
      "userId": ""
     },
     "user_tz": -540
    },
    "id": "3-Byco3wOMgT",
    "papermill": {
     "duration": 0.370384,
     "end_time": "2020-09-03T00:25:28.724417",
     "exception": false,
     "start_time": "2020-09-03T00:25:28.354033",
     "status": "completed"
    },
    "tags": []
   },
   "outputs": [],
   "source": [
    "class ToxicDataset(Dataset):\n",
    "    def __init__(self, tokens_id:np.ndarray, labels:Optional[np.ndarray] = None):\n",
    "        super(ToxicDataset, self).__init__()\n",
    "        self.tokens_id = torch.as_tensor(tokens_id, dtype=torch.int64)\n",
    "        self.labels = torch.as_tensor(labels, dtype=torch.float32) if labels is not None else labels\n",
    "\n",
    "    def __len__(self):\n",
    "        return self.tokens_id.shape[0]\n",
    "\n",
    "    def __getitem__(self, idx:int):\n",
    "        X = self.tokens_id[idx, :]\n",
    "        if self.labels is not None:\n",
    "            y = self.labels[idx, :]\n",
    "            return X, y\n",
    "        else:\n",
    "            return X\n",
    "\n",
    "y = train.loc[:, 'toxic':'identity_hate'].to_numpy()\n",
    "X, X_val, y, y_val = train_test_split(train_tokens_id, y, test_size=0.1)\n",
    "\n",
    "train_data = ToxicDataset(X, y)\n",
    "val_data = ToxicDataset(X_val, y_val)\n",
    "test_data = ToxicDataset(test_tokens_id)\n",
    "\n",
    "batch_size = 32\n",
    "nb_workers = 4\n",
    "\n",
    "train_loader = DataLoader(train_data, batch_size=batch_size, shuffle=True, num_workers=nb_workers, pin_memory=True)\n",
    "val_loader = DataLoader(val_data, batch_size=batch_size, shuffle=True, num_workers=nb_workers, pin_memory=True)\n",
    "test_loader = DataLoader(test_data, batch_size=1024, num_workers=2, pin_memory=True)"
   ]
  },
  {
   "cell_type": "markdown",
   "execution_count": null,
   "metadata": {
    "id": "FKoTa8viOMgX",
    "papermill": {
     "duration": 0.015161,
     "end_time": "2020-09-03T00:25:28.754343",
     "exception": false,
     "start_time": "2020-09-03T00:25:28.739182",
     "status": "completed"
    },
    "tags": []
   },
   "source": [
    "## Model (LSTM)"
   ]
  },
  {
   "cell_type": "code",
   "execution_count": 19,
   "metadata": {
    "execution": {
     "iopub.execute_input": "2020-09-03T00:25:29.126672Z",
     "iopub.status.busy": "2020-09-03T00:25:29.125982Z",
     "iopub.status.idle": "2020-09-03T00:25:29.131876Z",
     "shell.execute_reply": "2020-09-03T00:25:29.131031Z"
    },
    "executionInfo": {
     "elapsed": 46006,
     "status": "ok",
     "timestamp": 1599043703017,
     "user": {
      "displayName": "",
      "photoUrl": "",
      "userId": ""
     },
     "user_tz": -540
    },
    "id": "Rtw3ngEZrI9C",
    "outputId": "387cf7fa-a34f-4cd9-e24b-fa2b9a434ebf",
    "papermill": {
     "duration": 0.363374,
     "end_time": "2020-09-03T00:25:29.131985",
     "exception": false,
     "start_time": "2020-09-03T00:25:28.768611",
     "status": "completed"
    },
    "tags": []
   },
   "outputs": [
    {
     "name": "stdout",
     "output_type": "stream",
     "text": [
      "Device: cuda\n"
     ]
    }
   ],
   "source": [
    "# Define device variable for switching between CPU/GPU\n",
    "device = torch.device('cuda' if torch.cuda.is_available() else 'cpu')\n",
    "print(f'Device: {device}')"
   ]
  },
  {
   "cell_type": "code",
   "execution_count": 20,
   "metadata": {
    "execution": {
     "iopub.execute_input": "2020-09-03T00:25:29.177384Z",
     "iopub.status.busy": "2020-09-03T00:25:29.174496Z",
     "iopub.status.idle": "2020-09-03T00:25:37.154307Z",
     "shell.execute_reply": "2020-09-03T00:25:37.155200Z"
    },
    "executionInfo": {
     "elapsed": 716,
     "status": "ok",
     "timestamp": 1599051103804,
     "user": {
      "displayName": "",
      "photoUrl": "",
      "userId": ""
     },
     "user_tz": -540
    },
    "id": "saE-UFMMOMgY",
    "outputId": "f80c09f3-2ce5-49b6-ff4f-5e345cd694b8",
    "papermill": {
     "duration": 8.008578,
     "end_time": "2020-09-03T00:25:37.155344",
     "exception": false,
     "start_time": "2020-09-03T00:25:29.146766",
     "status": "completed"
    },
    "tags": []
   },
   "outputs": [
    {
     "name": "stdout",
     "output_type": "stream",
     "text": [
      "=================================================================\n",
      "                Kernel Shape   Output Shape    Params Mult-Adds\n",
      "Layer                                                          \n",
      "0_embed         [128, 20000]  [2, 200, 128]     2.56M     2.56M\n",
      "1_drop2d                   -  [2, 200, 128]         -         -\n",
      "2_lstm                     -  [2, 200, 256]  264.192k  262.144k\n",
      "3_conv          [256, 64, 3]   [2, 64, 200]   49.216k   9.8304M\n",
      "4_max                      -     [2, 64, 1]         -         -\n",
      "5_fc.Flatten_0             -        [2, 64]         -         -\n",
      "6_fc.Linear_1        [64, 6]         [2, 6]     390.0     384.0\n",
      "7_fc.Sigmoid_2             -         [2, 6]         -         -\n",
      "-----------------------------------------------------------------\n",
      "                          Totals\n",
      "Total params           2.873798M\n",
      "Trainable params       2.873798M\n",
      "Non-trainable params         0.0\n",
      "Mult-Adds             12.652928M\n",
      "=================================================================\n"
     ]
    }
   ],
   "source": [
    "class ToxicModel(nn.Module):\n",
    "    def __init__(self, nb_embeds, embed_dim, hidden):\n",
    "        super(ToxicModel, self).__init__()\n",
    "        self.embed = nn.Embedding(nb_embeds, embed_dim)\n",
    "        self.drop2d = nn.Dropout2d(0.2)\n",
    "        self.lstm = nn.LSTM(embed_dim, hidden, batch_first=True, bidirectional=True)\n",
    "        self.conv = nn.Conv1d(hidden*2, 64, 3, padding=1, padding_mode='reflect')\n",
    "        self.max = nn.AdaptiveMaxPool1d(1)\n",
    "        self.fc = nn.Sequential(\n",
    "            nn.Flatten(),\n",
    "            nn.Linear(64, 6),\n",
    "            nn.Sigmoid()\n",
    "        )\n",
    "\n",
    "    def forward(self, x):\n",
    "        x = self.embed(x)\n",
    "        x = self.drop2d(x)\n",
    "        x, (h_n, c_n) = self.lstm(x)\n",
    "        x = x.permute(0, 2, 1)\n",
    "        x = self.conv(x)\n",
    "        x = self.max(x)\n",
    "        x = self.fc(x)\n",
    "        return x\n",
    "\n",
    "model = ToxicModel(max_vocab, 128, 128)\n",
    "model.to(device)\n",
    "summary(model, torch.zeros((2, seq_len), dtype=torch.int64, device=device))\n",
    "\n",
    "criterion = nn.BCELoss()\n",
    "optimizer = optim.AdamW(model.parameters(), eps=1e-7)"
   ]
  },
  {
   "cell_type": "markdown",
   "execution_count": null,
   "metadata": {
    "id": "ydGoIVej9qpo",
    "papermill": {
     "duration": 0.015013,
     "end_time": "2020-09-03T00:25:37.186477",
     "exception": false,
     "start_time": "2020-09-03T00:25:37.171464",
     "status": "completed"
    },
    "tags": []
   },
   "source": [
    "## LR Finding & Training"
   ]
  },
  {
   "cell_type": "code",
   "execution_count": 21,
   "metadata": {
    "execution": {
     "iopub.execute_input": "2020-09-03T00:25:37.746444Z",
     "iopub.status.busy": "2020-09-03T00:25:37.745779Z",
     "iopub.status.idle": "2020-09-03T00:32:23.808041Z",
     "shell.execute_reply": "2020-09-03T00:32:23.808740Z"
    },
    "id": "Dk7w3EWfOMgm",
    "outputId": "626f0c22-a749-43fd-a6b9-e0554ce8f40d",
    "papermill": {
     "duration": 406.607454,
     "end_time": "2020-09-03T00:32:23.809073",
     "exception": false,
     "start_time": "2020-09-03T00:25:37.201619",
     "status": "completed"
    },
    "tags": []
   },
   "outputs": [
    {
     "name": "stdout",
     "output_type": "stream",
     "text": [
      "Epoch 1/4 - 101.28s 20.31ms/step - loss: 0.06839464219952276, acc: 0.9776471025139322 - val_loss: 0.0493945344294622, val_acc: 0.9824852738438401\n",
      "Epoch 2/4 - 101.33s 20.32ms/step - loss: 0.052005419824697675, acc: 0.9815928920083836 - val_loss: 0.04629490326383625, val_acc: 0.9829134812215399\n",
      "Epoch 3/4 - 101.46s 20.34ms/step - loss: 0.047656678846478756, acc: 0.9826733420140702 - val_loss: 0.04845109140885141, val_acc: 0.9822555040314158\n",
      "Epoch 4/4 - 101.97s 20.45ms/step - loss: 0.044842346488281275, acc: 0.9836342578086014 - val_loss: 0.044777455361615315, val_acc: 0.9830596983749008\n"
     ]
    }
   ],
   "source": [
    "gc.collect() # Free some useless memory\n",
    "\n",
    "epochs = 4\n",
    "lr = 1e-1\n",
    "label_thresh = 0.5\n",
    "\n",
    "lrs = train_classifier(model, epochs, train_loader, val_loader, criterion, optimizer, device, threshold=label_thresh)"
   ]
  },
  {
   "cell_type": "markdown",
   "execution_count": null,
   "metadata": {
    "id": "CCB9RNOUr-Pu",
    "papermill": {
     "duration": 0.019059,
     "end_time": "2020-09-03T00:32:23.843192",
     "exception": false,
     "start_time": "2020-09-03T00:32:23.824133",
     "status": "completed"
    },
    "tags": []
   },
   "source": [
    "## Prediction & Submission"
   ]
  },
  {
   "cell_type": "code",
   "execution_count": 22,
   "metadata": {
    "execution": {
     "iopub.execute_input": "2020-09-03T00:32:23.899414Z",
     "iopub.status.busy": "2020-09-03T00:32:23.898616Z",
     "iopub.status.idle": "2020-09-03T00:32:31.850425Z",
     "shell.execute_reply": "2020-09-03T00:32:31.849870Z"
    },
    "id": "CQwYpikpDdum",
    "papermill": {
     "duration": 7.987097,
     "end_time": "2020-09-03T00:32:31.850548",
     "exception": false,
     "start_time": "2020-09-03T00:32:23.863451",
     "status": "completed"
    },
    "tags": []
   },
   "outputs": [
    {
     "name": "stdout",
     "output_type": "stream",
     "text": [
      "Prediction - 6.05s\n"
     ]
    }
   ],
   "source": [
    "probas, classes = predict_classes(False, model, test_loader, device, threshold=label_thresh)\n",
    "\n",
    "label_names = ['toxic', 'severe_toxic', 'obscene','threat', 'insult', 'identity_hate']\n",
    "\n",
    "submission = test['id'].to_frame()\n",
    "submission = pd.concat([submission, pd.DataFrame(probas, columns=label_names)], axis=1)\n",
    "\n",
    "submission.to_csv('submission.csv', index=False)"
   ]
  },
  {
   "cell_type": "code",
   "execution_count": 23,
   "metadata": {
    "execution": {
     "iopub.execute_input": "2020-09-03T00:32:31.899517Z",
     "iopub.status.busy": "2020-09-03T00:32:31.898798Z",
     "iopub.status.idle": "2020-09-03T00:32:31.902682Z",
     "shell.execute_reply": "2020-09-03T00:32:31.903253Z"
    },
    "id": "UMHkfeWUuB3-",
    "papermill": {
     "duration": 0.036639,
     "end_time": "2020-09-03T00:32:31.903374",
     "exception": false,
     "start_time": "2020-09-03T00:32:31.866735",
     "status": "completed"
    },
    "tags": []
   },
   "outputs": [
    {
     "data": {
      "text/html": [
       "<div>\n",
       "<style scoped>\n",
       "    .dataframe tbody tr th:only-of-type {\n",
       "        vertical-align: middle;\n",
       "    }\n",
       "\n",
       "    .dataframe tbody tr th {\n",
       "        vertical-align: top;\n",
       "    }\n",
       "\n",
       "    .dataframe thead th {\n",
       "        text-align: right;\n",
       "    }\n",
       "</style>\n",
       "<table border=\"1\" class=\"dataframe\">\n",
       "  <thead>\n",
       "    <tr style=\"text-align: right;\">\n",
       "      <th></th>\n",
       "      <th>id</th>\n",
       "      <th>toxic</th>\n",
       "      <th>severe_toxic</th>\n",
       "      <th>obscene</th>\n",
       "      <th>threat</th>\n",
       "      <th>insult</th>\n",
       "      <th>identity_hate</th>\n",
       "    </tr>\n",
       "  </thead>\n",
       "  <tbody>\n",
       "    <tr>\n",
       "      <th>0</th>\n",
       "      <td>00001cee341fdb12</td>\n",
       "      <td>0.997070</td>\n",
       "      <td>0.252593</td>\n",
       "      <td>0.990917</td>\n",
       "      <td>1.924106e-01</td>\n",
       "      <td>0.967297</td>\n",
       "      <td>0.441257</td>\n",
       "    </tr>\n",
       "    <tr>\n",
       "      <th>1</th>\n",
       "      <td>0000247867823ef7</td>\n",
       "      <td>0.000077</td>\n",
       "      <td>0.000004</td>\n",
       "      <td>0.000055</td>\n",
       "      <td>8.341443e-07</td>\n",
       "      <td>0.000017</td>\n",
       "      <td>0.000003</td>\n",
       "    </tr>\n",
       "    <tr>\n",
       "      <th>2</th>\n",
       "      <td>00013b17ad220c46</td>\n",
       "      <td>0.000369</td>\n",
       "      <td>0.000082</td>\n",
       "      <td>0.000272</td>\n",
       "      <td>7.963507e-06</td>\n",
       "      <td>0.000069</td>\n",
       "      <td>0.000021</td>\n",
       "    </tr>\n",
       "    <tr>\n",
       "      <th>3</th>\n",
       "      <td>00017563c3f7919a</td>\n",
       "      <td>0.000331</td>\n",
       "      <td>0.000007</td>\n",
       "      <td>0.000368</td>\n",
       "      <td>6.754645e-06</td>\n",
       "      <td>0.000122</td>\n",
       "      <td>0.000013</td>\n",
       "    </tr>\n",
       "    <tr>\n",
       "      <th>4</th>\n",
       "      <td>00017695ad8997eb</td>\n",
       "      <td>0.005563</td>\n",
       "      <td>0.000296</td>\n",
       "      <td>0.001170</td>\n",
       "      <td>1.017584e-04</td>\n",
       "      <td>0.000645</td>\n",
       "      <td>0.000246</td>\n",
       "    </tr>\n",
       "  </tbody>\n",
       "</table>\n",
       "</div>"
      ],
      "text/plain": [
       "                 id     toxic  severe_toxic   obscene        threat    insult  \\\n",
       "0  00001cee341fdb12  0.997070      0.252593  0.990917  1.924106e-01  0.967297   \n",
       "1  0000247867823ef7  0.000077      0.000004  0.000055  8.341443e-07  0.000017   \n",
       "2  00013b17ad220c46  0.000369      0.000082  0.000272  7.963507e-06  0.000069   \n",
       "3  00017563c3f7919a  0.000331      0.000007  0.000368  6.754645e-06  0.000122   \n",
       "4  00017695ad8997eb  0.005563      0.000296  0.001170  1.017584e-04  0.000645   \n",
       "\n",
       "   identity_hate  \n",
       "0       0.441257  \n",
       "1       0.000003  \n",
       "2       0.000021  \n",
       "3       0.000013  \n",
       "4       0.000246  "
      ]
     },
     "execution_count": 23,
     "metadata": {},
     "output_type": "execute_result"
    }
   ],
   "source": [
    "submission.head()"
   ]
  },
  {
   "cell_type": "code",
   "execution_count": 24,
   "metadata": {
    "execution": {
     "iopub.execute_input": "2020-09-03T00:32:31.943838Z",
     "iopub.status.busy": "2020-09-03T00:32:31.943024Z",
     "iopub.status.idle": "2020-09-03T00:32:31.998529Z",
     "shell.execute_reply": "2020-09-03T00:32:31.999070Z"
    },
    "id": "OSa0D7KF7Bd0",
    "papermill": {
     "duration": 0.079277,
     "end_time": "2020-09-03T00:32:31.999209",
     "exception": false,
     "start_time": "2020-09-03T00:32:31.919932",
     "status": "completed"
    },
    "tags": []
   },
   "outputs": [
    {
     "data": {
      "text/html": [
       "<div>\n",
       "<style scoped>\n",
       "    .dataframe tbody tr th:only-of-type {\n",
       "        vertical-align: middle;\n",
       "    }\n",
       "\n",
       "    .dataframe tbody tr th {\n",
       "        vertical-align: top;\n",
       "    }\n",
       "\n",
       "    .dataframe thead th {\n",
       "        text-align: right;\n",
       "    }\n",
       "</style>\n",
       "<table border=\"1\" class=\"dataframe\">\n",
       "  <thead>\n",
       "    <tr style=\"text-align: right;\">\n",
       "      <th></th>\n",
       "      <th>toxic</th>\n",
       "      <th>severe_toxic</th>\n",
       "      <th>obscene</th>\n",
       "      <th>threat</th>\n",
       "      <th>insult</th>\n",
       "      <th>identity_hate</th>\n",
       "    </tr>\n",
       "  </thead>\n",
       "  <tbody>\n",
       "    <tr>\n",
       "      <th>count</th>\n",
       "      <td>153164.000000</td>\n",
       "      <td>1.531640e+05</td>\n",
       "      <td>153164.000000</td>\n",
       "      <td>1.531640e+05</td>\n",
       "      <td>1.531640e+05</td>\n",
       "      <td>1.531640e+05</td>\n",
       "    </tr>\n",
       "    <tr>\n",
       "      <th>mean</th>\n",
       "      <td>0.204432</td>\n",
       "      <td>1.771410e-02</td>\n",
       "      <td>0.135023</td>\n",
       "      <td>5.339144e-03</td>\n",
       "      <td>1.003405e-01</td>\n",
       "      <td>2.606249e-02</td>\n",
       "    </tr>\n",
       "    <tr>\n",
       "      <th>std</th>\n",
       "      <td>0.348314</td>\n",
       "      <td>7.391488e-02</td>\n",
       "      <td>0.285265</td>\n",
       "      <td>4.854147e-02</td>\n",
       "      <td>2.325368e-01</td>\n",
       "      <td>1.030840e-01</td>\n",
       "    </tr>\n",
       "    <tr>\n",
       "      <th>min</th>\n",
       "      <td>0.000004</td>\n",
       "      <td>3.898439e-08</td>\n",
       "      <td>0.000004</td>\n",
       "      <td>1.051188e-08</td>\n",
       "      <td>6.240433e-07</td>\n",
       "      <td>1.878320e-07</td>\n",
       "    </tr>\n",
       "    <tr>\n",
       "      <th>25%</th>\n",
       "      <td>0.000457</td>\n",
       "      <td>3.879100e-06</td>\n",
       "      <td>0.000211</td>\n",
       "      <td>1.428134e-06</td>\n",
       "      <td>6.882507e-05</td>\n",
       "      <td>1.667124e-05</td>\n",
       "    </tr>\n",
       "    <tr>\n",
       "      <th>50%</th>\n",
       "      <td>0.003553</td>\n",
       "      <td>3.880190e-05</td>\n",
       "      <td>0.001151</td>\n",
       "      <td>1.427854e-05</td>\n",
       "      <td>5.226284e-04</td>\n",
       "      <td>1.218808e-04</td>\n",
       "    </tr>\n",
       "    <tr>\n",
       "      <th>75%</th>\n",
       "      <td>0.232857</td>\n",
       "      <td>1.411677e-03</td>\n",
       "      <td>0.048777</td>\n",
       "      <td>3.634500e-04</td>\n",
       "      <td>2.935079e-02</td>\n",
       "      <td>3.797473e-03</td>\n",
       "    </tr>\n",
       "    <tr>\n",
       "      <th>max</th>\n",
       "      <td>0.999941</td>\n",
       "      <td>9.882419e-01</td>\n",
       "      <td>0.999861</td>\n",
       "      <td>9.999865e-01</td>\n",
       "      <td>9.982564e-01</td>\n",
       "      <td>9.995840e-01</td>\n",
       "    </tr>\n",
       "  </tbody>\n",
       "</table>\n",
       "</div>"
      ],
      "text/plain": [
       "               toxic  severe_toxic        obscene        threat        insult  \\\n",
       "count  153164.000000  1.531640e+05  153164.000000  1.531640e+05  1.531640e+05   \n",
       "mean        0.204432  1.771410e-02       0.135023  5.339144e-03  1.003405e-01   \n",
       "std         0.348314  7.391488e-02       0.285265  4.854147e-02  2.325368e-01   \n",
       "min         0.000004  3.898439e-08       0.000004  1.051188e-08  6.240433e-07   \n",
       "25%         0.000457  3.879100e-06       0.000211  1.428134e-06  6.882507e-05   \n",
       "50%         0.003553  3.880190e-05       0.001151  1.427854e-05  5.226284e-04   \n",
       "75%         0.232857  1.411677e-03       0.048777  3.634500e-04  2.935079e-02   \n",
       "max         0.999941  9.882419e-01       0.999861  9.999865e-01  9.982564e-01   \n",
       "\n",
       "       identity_hate  \n",
       "count   1.531640e+05  \n",
       "mean    2.606249e-02  \n",
       "std     1.030840e-01  \n",
       "min     1.878320e-07  \n",
       "25%     1.667124e-05  \n",
       "50%     1.218808e-04  \n",
       "75%     3.797473e-03  \n",
       "max     9.995840e-01  "
      ]
     },
     "execution_count": 24,
     "metadata": {},
     "output_type": "execute_result"
    }
   ],
   "source": [
    "submission.describe()"
   ]
  },
  {
   "cell_type": "code",
   "execution_count": 25,
   "metadata": {
    "execution": {
     "iopub.execute_input": "2020-09-03T00:32:32.037056Z",
     "iopub.status.busy": "2020-09-03T00:32:32.036435Z",
     "iopub.status.idle": "2020-09-03T00:32:32.241103Z",
     "shell.execute_reply": "2020-09-03T00:32:32.240074Z"
    },
    "papermill": {
     "duration": 0.225601,
     "end_time": "2020-09-03T00:32:32.241215",
     "exception": false,
     "start_time": "2020-09-03T00:32:32.015614",
     "status": "completed"
    },
    "tags": []
   },
   "outputs": [
    {
     "data": {
      "text/html": [
       "<div>\n",
       "<style scoped>\n",
       "    .dataframe tbody tr th:only-of-type {\n",
       "        vertical-align: middle;\n",
       "    }\n",
       "\n",
       "    .dataframe tbody tr th {\n",
       "        vertical-align: top;\n",
       "    }\n",
       "\n",
       "    .dataframe thead th {\n",
       "        text-align: right;\n",
       "    }\n",
       "</style>\n",
       "<table border=\"1\" class=\"dataframe\">\n",
       "  <thead>\n",
       "    <tr style=\"text-align: right;\">\n",
       "      <th></th>\n",
       "      <th>id</th>\n",
       "      <th>toxic</th>\n",
       "      <th>severe_toxic</th>\n",
       "      <th>obscene</th>\n",
       "      <th>threat</th>\n",
       "      <th>insult</th>\n",
       "      <th>identity_hate</th>\n",
       "    </tr>\n",
       "  </thead>\n",
       "  <tbody>\n",
       "    <tr>\n",
       "      <th>0</th>\n",
       "      <td>00001cee341fdb12</td>\n",
       "      <td>-1</td>\n",
       "      <td>-1</td>\n",
       "      <td>-1</td>\n",
       "      <td>-1</td>\n",
       "      <td>-1</td>\n",
       "      <td>-1</td>\n",
       "    </tr>\n",
       "    <tr>\n",
       "      <th>1</th>\n",
       "      <td>0000247867823ef7</td>\n",
       "      <td>-1</td>\n",
       "      <td>-1</td>\n",
       "      <td>-1</td>\n",
       "      <td>-1</td>\n",
       "      <td>-1</td>\n",
       "      <td>-1</td>\n",
       "    </tr>\n",
       "    <tr>\n",
       "      <th>2</th>\n",
       "      <td>00013b17ad220c46</td>\n",
       "      <td>-1</td>\n",
       "      <td>-1</td>\n",
       "      <td>-1</td>\n",
       "      <td>-1</td>\n",
       "      <td>-1</td>\n",
       "      <td>-1</td>\n",
       "    </tr>\n",
       "    <tr>\n",
       "      <th>3</th>\n",
       "      <td>00017563c3f7919a</td>\n",
       "      <td>-1</td>\n",
       "      <td>-1</td>\n",
       "      <td>-1</td>\n",
       "      <td>-1</td>\n",
       "      <td>-1</td>\n",
       "      <td>-1</td>\n",
       "    </tr>\n",
       "    <tr>\n",
       "      <th>4</th>\n",
       "      <td>00017695ad8997eb</td>\n",
       "      <td>-1</td>\n",
       "      <td>-1</td>\n",
       "      <td>-1</td>\n",
       "      <td>-1</td>\n",
       "      <td>-1</td>\n",
       "      <td>-1</td>\n",
       "    </tr>\n",
       "  </tbody>\n",
       "</table>\n",
       "</div>"
      ],
      "text/plain": [
       "                 id  toxic  severe_toxic  obscene  threat  insult  \\\n",
       "0  00001cee341fdb12     -1            -1       -1      -1      -1   \n",
       "1  0000247867823ef7     -1            -1       -1      -1      -1   \n",
       "2  00013b17ad220c46     -1            -1       -1      -1      -1   \n",
       "3  00017563c3f7919a     -1            -1       -1      -1      -1   \n",
       "4  00017695ad8997eb     -1            -1       -1      -1      -1   \n",
       "\n",
       "   identity_hate  \n",
       "0             -1  \n",
       "1             -1  \n",
       "2             -1  \n",
       "3             -1  \n",
       "4             -1  "
      ]
     },
     "execution_count": 25,
     "metadata": {},
     "output_type": "execute_result"
    }
   ],
   "source": [
    "test_labels = pd.read_csv('../input/jigsaw-toxic-comment-classification-challenge/test_labels.csv.zip')\n",
    "test_labels.head()"
   ]
  },
  {
   "cell_type": "code",
   "execution_count": 26,
   "metadata": {
    "execution": {
     "iopub.execute_input": "2020-09-03T00:32:32.285138Z",
     "iopub.status.busy": "2020-09-03T00:32:32.284181Z",
     "iopub.status.idle": "2020-09-03T00:32:33.125777Z",
     "shell.execute_reply": "2020-09-03T00:32:33.124723Z"
    },
    "id": "J6IcsRJ5lbBl",
    "papermill": {
     "duration": 0.868424,
     "end_time": "2020-09-03T00:32:33.125939",
     "exception": false,
     "start_time": "2020-09-03T00:32:32.257515",
     "status": "completed"
    },
    "tags": []
   },
   "outputs": [
    {
     "data": {
      "image/png": "[encoded data removed]",
      "text/plain": [
       "<Figure size 720x720 with 6 Axes>"
      ]
     },
     "metadata": {
      "needs_background": "light"
     },
     "output_type": "display_data"
    }
   ],
   "source": [
    "mask = test_labels['toxic'] > -1 # -1 to indicate that this sample is not considered in scoring\n",
    "\n",
    "rocs = []\n",
    "for i in range(1, test_labels.shape[1]):\n",
    "    rocs.append(roc_curve(test_labels[mask].iloc[:, i], submission[mask].iloc[:, i]))\n",
    "\n",
    "nb_rows = int(np.round((test_labels.shape[1] - 1) / 2))\n",
    "fig, ax = plt.subplots(nb_rows, 2, figsize=(10, 10))\n",
    "for i, roc in enumerate(rocs):\n",
    "    ax_i = ax[i//2][i%2]\n",
    "    ax_i.plot(roc[0], roc[1])\n",
    "    ax_i.set_title(test_labels.columns[i+1])"
   ]
  },
  {
   "cell_type": "code",
   "execution_count": 27,
   "metadata": {
    "execution": {
     "iopub.execute_input": "2020-09-03T00:32:33.207550Z",
     "iopub.status.busy": "2020-09-03T00:32:33.206494Z",
     "iopub.status.idle": "2020-09-03T00:32:33.336461Z",
     "shell.execute_reply": "2020-09-03T00:32:33.338166Z"
    },
    "id": "HabEA0PsRC7k",
    "papermill": {
     "duration": 0.153759,
     "end_time": "2020-09-03T00:32:33.338357",
     "exception": false,
     "start_time": "2020-09-03T00:32:33.184598",
     "status": "completed"
    },
    "tags": []
   },
   "outputs": [
    {
     "name": "stdout",
     "output_type": "stream",
     "text": [
      "ROC AUC score on the test dataset: 0.9753639626595421\n"
     ]
    }
   ],
   "source": [
    "roc_auc = roc_auc_score(test_labels[mask].iloc[:, 1:], submission[mask].iloc[:, 1:])\n",
    "print(f'ROC AUC score on the test dataset: {roc_auc}')"
   ]
  }
 ],
 "metadata": {
  "kernelspec": {
   "display_name": "Python 3",
   "language": "python",
   "name": "python3"
  },
  "language_info": {
   "codemirror_mode": {
    "name": "ipython",
    "version": 3
   },
   "file_extension": ".py",
   "mimetype": "text/x-python",
   "name": "python",
   "nbconvert_exporter": "python",
   "pygments_lexer": "ipython3",
   "version": "3.7.6"
  },
  "papermill": {
   "duration": 511.073838,
   "end_time": "2020-09-03T00:32:35.078285",
   "environment_variables": {},
   "exception": null,
   "input_path": "__notebook__.ipynb",
   "output_path": "__notebook__.ipynb",
   "parameters": {},
   "start_time": "2020-09-03T00:24:04.004447",
   "version": "2.1.0"
  }
 },
 "nbformat": 4,
 "nbformat_minor": 4
}
