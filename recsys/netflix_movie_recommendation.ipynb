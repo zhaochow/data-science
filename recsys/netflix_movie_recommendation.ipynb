{
  "nbformat": 4,
  "nbformat_minor": 0,
  "metadata": {
    "colab": {
      "name": "netflix_movie_recommendation.ipynb",
      "provenance": [],
      "collapsed_sections": [],
      "toc_visible": true,
      "authorship_tag": "ABX9TyPjR3vHkBrkf3S56O7+Hyay"
    },
    "kernelspec": {
      "name": "python3",
      "display_name": "Python 3"
    }
  },
  "cells": [
    {
      "cell_type": "markdown",
      "metadata": {
        "id": "wc8wiM6mu_2X",
        "colab_type": "text"
      },
      "source": [
        "# Netflix Movie Recommendation\n",
        "\n",
        "This project aims to build a recommendation system for Netflix movies. The [Netflix dataset](https://www.kaggle.com/netflix-inc/netflix-prize-data) is used. More precisely, only a subset of it is used as this dataset is huge and does not fit into the memory provided by Google Colab.\n",
        "\n",
        "Recommendations are suggested based on **collaborative filtering using SVD**.\n",
        "\n",
        "References:\n",
        "- https://www.kaggle.com/laowingkin/netflix-movie-recommendation\n",
        "- https://www.kaggle.com/gspmoreira/recommender-systems-in-python-101#Collaborative-Filtering-model"
      ]
    },
    {
      "cell_type": "markdown",
      "metadata": {
        "id": "OkosF5dOzQgk",
        "colab_type": "text"
      },
      "source": [
        "## Libraries\n",
        "\n",
        "Let us install the [Surprise](http://surpriselib.com/) library, which we will use to build a matrix factorization based model, as well as import other classic libraries."
      ]
    },
    {
      "cell_type": "code",
      "metadata": {
        "id": "KIYRrr_HBPDP",
        "colab_type": "code",
        "colab": {}
      },
      "source": [
        "!pip -q install scikit-surprise"
      ],
      "execution_count": null,
      "outputs": []
    },
    {
      "cell_type": "code",
      "metadata": {
        "id": "EXKNr1iHu7tB",
        "colab_type": "code",
        "colab": {}
      },
      "source": [
        "import gc\n",
        "import matplotlib.pyplot as plt\n",
        "import numpy as np\n",
        "import os\n",
        "import pandas as pd\n",
        "import seaborn as sns\n",
        "import sys\n",
        "%matplotlib inline\n",
        "\n",
        "from IPython.display import display\n",
        "\n",
        "from surprise import Dataset, Reader, SVD\n",
        "from surprise import accuracy\n",
        "from surprise.model_selection import cross_validate, train_test_split"
      ],
      "execution_count": null,
      "outputs": []
    },
    {
      "cell_type": "markdown",
      "metadata": {
        "id": "As1wT2Twzb-W",
        "colab_type": "text"
      },
      "source": [
        "## Data Loading & Processing\n",
        "\n",
        "First, we load the dataset (a subset of the whole dataset) and format it to a convenient way for further usage. In particular, we add a `MovieID` column and change column types to maximize memory efficiency. We also split the `Date` column into `Year`, `Month` and `Day` columns.\n",
        "\n",
        "`probe.txt` and `qualifying.txt`. define a validation and test set. However, we will not use them here. The validation set will be created simply by randomly selecting a subset of the available data."
      ]
    },
    {
      "cell_type": "code",
      "metadata": {
        "id": "Wi5isUEwI8tP",
        "colab_type": "code",
        "colab": {
          "base_uri": "https://localhost:8080/",
          "height": 402
        },
        "outputId": "e8e2558b-8af8-44d9-9383-b9fffae5ff1e"
      },
      "source": [
        "def add_movie_id(df, dtype):\n",
        "    movie_ids = df.loc[df.iloc[:, 0].str.contains(':'), df.columns[0]].str.rstrip(':').astype(np.uint16)\n",
        "    res = df.drop(index=movie_ids.index).astype(dtype)\n",
        "    movie_ids2 = np.empty(res.shape[0], dtype=np.uint16)\n",
        "    start = 0\n",
        "    for i in range(movie_ids.index.size):\n",
        "        if i == movie_ids.index.size - 1:\n",
        "            movie_ids2[start:] = movie_ids.iloc[i]\n",
        "        else:\n",
        "            end = start + movie_ids.index[i+1] - movie_ids.index[i] - 1\n",
        "            movie_ids2[start:end] = movie_ids.iloc[i]\n",
        "            start = end\n",
        "    res.insert(0, 'MovieID', movie_ids2)\n",
        "    res = res.reset_index(drop=True)\n",
        "\n",
        "    return res\n",
        "\n",
        "def format_date(df):\n",
        "    dates = df['Date'].to_list()\n",
        "    res = df.drop(columns='Date')\n",
        "    dates = [[int(x) for x in date.split('-')] for date in dates]\n",
        "    dates = np.array(dates, dtype=np.int16)\n",
        "    res[['Year', 'Month', 'Day']] = pd.DataFrame(dates)\n",
        "    res = res.astype({'Month': np.uint8, 'Day': np.uint8})\n",
        "\n",
        "    return res\n",
        "\n",
        "def read_data(path):\n",
        "    df = pd.read_csv(path, names=['CustomerID', 'Rating', 'Date'])\n",
        "    df = add_movie_id(df, {'CustomerID': np.uint32, 'Rating': np.uint8})\n",
        "    df = format_date(df)\n",
        "\n",
        "    return df\n",
        "\n",
        "# paths = ['combined_data_1.txt', 'combined_data_2.txt', 'combined_data_3.txt', 'combined_data_4.txt']\n",
        "paths = ['combined_data_1.txt']\n",
        "data = [read_data(path) for path in paths]\n",
        "data = pd.concat(data, ignore_index=True)\n",
        "data"
      ],
      "execution_count": 4,
      "outputs": [
        {
          "output_type": "execute_result",
          "data": {
            "text/html": [
              "<div>\n",
              "<style scoped>\n",
              "    .dataframe tbody tr th:only-of-type {\n",
              "        vertical-align: middle;\n",
              "    }\n",
              "\n",
              "    .dataframe tbody tr th {\n",
              "        vertical-align: top;\n",
              "    }\n",
              "\n",
              "    .dataframe thead th {\n",
              "        text-align: right;\n",
              "    }\n",
              "</style>\n",
              "<table border=\"1\" class=\"dataframe\">\n",
              "  <thead>\n",
              "    <tr style=\"text-align: right;\">\n",
              "      <th></th>\n",
              "      <th>MovieID</th>\n",
              "      <th>CustomerID</th>\n",
              "      <th>Rating</th>\n",
              "      <th>Year</th>\n",
              "      <th>Month</th>\n",
              "      <th>Day</th>\n",
              "    </tr>\n",
              "  </thead>\n",
              "  <tbody>\n",
              "    <tr>\n",
              "      <th>0</th>\n",
              "      <td>1</td>\n",
              "      <td>1488844</td>\n",
              "      <td>3</td>\n",
              "      <td>2005</td>\n",
              "      <td>9</td>\n",
              "      <td>6</td>\n",
              "    </tr>\n",
              "    <tr>\n",
              "      <th>1</th>\n",
              "      <td>1</td>\n",
              "      <td>822109</td>\n",
              "      <td>5</td>\n",
              "      <td>2005</td>\n",
              "      <td>5</td>\n",
              "      <td>13</td>\n",
              "    </tr>\n",
              "    <tr>\n",
              "      <th>2</th>\n",
              "      <td>1</td>\n",
              "      <td>885013</td>\n",
              "      <td>4</td>\n",
              "      <td>2005</td>\n",
              "      <td>10</td>\n",
              "      <td>19</td>\n",
              "    </tr>\n",
              "    <tr>\n",
              "      <th>3</th>\n",
              "      <td>1</td>\n",
              "      <td>30878</td>\n",
              "      <td>4</td>\n",
              "      <td>2005</td>\n",
              "      <td>12</td>\n",
              "      <td>26</td>\n",
              "    </tr>\n",
              "    <tr>\n",
              "      <th>4</th>\n",
              "      <td>1</td>\n",
              "      <td>823519</td>\n",
              "      <td>3</td>\n",
              "      <td>2004</td>\n",
              "      <td>5</td>\n",
              "      <td>3</td>\n",
              "    </tr>\n",
              "    <tr>\n",
              "      <th>...</th>\n",
              "      <td>...</td>\n",
              "      <td>...</td>\n",
              "      <td>...</td>\n",
              "      <td>...</td>\n",
              "      <td>...</td>\n",
              "      <td>...</td>\n",
              "    </tr>\n",
              "    <tr>\n",
              "      <th>24053759</th>\n",
              "      <td>4499</td>\n",
              "      <td>2591364</td>\n",
              "      <td>2</td>\n",
              "      <td>2005</td>\n",
              "      <td>2</td>\n",
              "      <td>16</td>\n",
              "    </tr>\n",
              "    <tr>\n",
              "      <th>24053760</th>\n",
              "      <td>4499</td>\n",
              "      <td>1791000</td>\n",
              "      <td>2</td>\n",
              "      <td>2005</td>\n",
              "      <td>2</td>\n",
              "      <td>10</td>\n",
              "    </tr>\n",
              "    <tr>\n",
              "      <th>24053761</th>\n",
              "      <td>4499</td>\n",
              "      <td>512536</td>\n",
              "      <td>5</td>\n",
              "      <td>2005</td>\n",
              "      <td>7</td>\n",
              "      <td>27</td>\n",
              "    </tr>\n",
              "    <tr>\n",
              "      <th>24053762</th>\n",
              "      <td>4499</td>\n",
              "      <td>988963</td>\n",
              "      <td>3</td>\n",
              "      <td>2005</td>\n",
              "      <td>12</td>\n",
              "      <td>20</td>\n",
              "    </tr>\n",
              "    <tr>\n",
              "      <th>24053763</th>\n",
              "      <td>4499</td>\n",
              "      <td>1704416</td>\n",
              "      <td>3</td>\n",
              "      <td>2004</td>\n",
              "      <td>6</td>\n",
              "      <td>2</td>\n",
              "    </tr>\n",
              "  </tbody>\n",
              "</table>\n",
              "<p>24053764 rows × 6 columns</p>\n",
              "</div>"
            ],
            "text/plain": [
              "          MovieID  CustomerID  Rating  Year  Month  Day\n",
              "0               1     1488844       3  2005      9    6\n",
              "1               1      822109       5  2005      5   13\n",
              "2               1      885013       4  2005     10   19\n",
              "3               1       30878       4  2005     12   26\n",
              "4               1      823519       3  2004      5    3\n",
              "...           ...         ...     ...   ...    ...  ...\n",
              "24053759     4499     2591364       2  2005      2   16\n",
              "24053760     4499     1791000       2  2005      2   10\n",
              "24053761     4499      512536       5  2005      7   27\n",
              "24053762     4499      988963       3  2005     12   20\n",
              "24053763     4499     1704416       3  2004      6    2\n",
              "\n",
              "[24053764 rows x 6 columns]"
            ]
          },
          "metadata": {
            "tags": []
          },
          "execution_count": 4
        }
      ]
    },
    {
      "cell_type": "markdown",
      "metadata": {
        "id": "we3orYkttlnq",
        "colab_type": "text"
      },
      "source": [
        "We also load the titles corresponding to each movie ID."
      ]
    },
    {
      "cell_type": "code",
      "metadata": {
        "id": "h2ZV9x8kNgjl",
        "colab_type": "code",
        "colab": {
          "base_uri": "https://localhost:8080/",
          "height": 402
        },
        "outputId": "e5de5c75-f00f-4dc0-e125-fb0ca14ac64c"
      },
      "source": [
        "titles = pd.read_csv('movie_titles.csv', encoding=\"ISO-8859-1\", header=None, names=['MovieID', 'Year (release)', 'Name'])\n",
        "titles = titles.astype({'MovieID': np.uint16})\n",
        "titles"
      ],
      "execution_count": 5,
      "outputs": [
        {
          "output_type": "execute_result",
          "data": {
            "text/html": [
              "<div>\n",
              "<style scoped>\n",
              "    .dataframe tbody tr th:only-of-type {\n",
              "        vertical-align: middle;\n",
              "    }\n",
              "\n",
              "    .dataframe tbody tr th {\n",
              "        vertical-align: top;\n",
              "    }\n",
              "\n",
              "    .dataframe thead th {\n",
              "        text-align: right;\n",
              "    }\n",
              "</style>\n",
              "<table border=\"1\" class=\"dataframe\">\n",
              "  <thead>\n",
              "    <tr style=\"text-align: right;\">\n",
              "      <th></th>\n",
              "      <th>MovieID</th>\n",
              "      <th>Year (release)</th>\n",
              "      <th>Name</th>\n",
              "    </tr>\n",
              "  </thead>\n",
              "  <tbody>\n",
              "    <tr>\n",
              "      <th>0</th>\n",
              "      <td>1</td>\n",
              "      <td>2003.0</td>\n",
              "      <td>Dinosaur Planet</td>\n",
              "    </tr>\n",
              "    <tr>\n",
              "      <th>1</th>\n",
              "      <td>2</td>\n",
              "      <td>2004.0</td>\n",
              "      <td>Isle of Man TT 2004 Review</td>\n",
              "    </tr>\n",
              "    <tr>\n",
              "      <th>2</th>\n",
              "      <td>3</td>\n",
              "      <td>1997.0</td>\n",
              "      <td>Character</td>\n",
              "    </tr>\n",
              "    <tr>\n",
              "      <th>3</th>\n",
              "      <td>4</td>\n",
              "      <td>1994.0</td>\n",
              "      <td>Paula Abdul's Get Up &amp; Dance</td>\n",
              "    </tr>\n",
              "    <tr>\n",
              "      <th>4</th>\n",
              "      <td>5</td>\n",
              "      <td>2004.0</td>\n",
              "      <td>The Rise and Fall of ECW</td>\n",
              "    </tr>\n",
              "    <tr>\n",
              "      <th>...</th>\n",
              "      <td>...</td>\n",
              "      <td>...</td>\n",
              "      <td>...</td>\n",
              "    </tr>\n",
              "    <tr>\n",
              "      <th>17765</th>\n",
              "      <td>17766</td>\n",
              "      <td>2002.0</td>\n",
              "      <td>Where the Wild Things Are and Other Maurice Se...</td>\n",
              "    </tr>\n",
              "    <tr>\n",
              "      <th>17766</th>\n",
              "      <td>17767</td>\n",
              "      <td>2004.0</td>\n",
              "      <td>Fidel Castro: American Experience</td>\n",
              "    </tr>\n",
              "    <tr>\n",
              "      <th>17767</th>\n",
              "      <td>17768</td>\n",
              "      <td>2000.0</td>\n",
              "      <td>Epoch</td>\n",
              "    </tr>\n",
              "    <tr>\n",
              "      <th>17768</th>\n",
              "      <td>17769</td>\n",
              "      <td>2003.0</td>\n",
              "      <td>The Company</td>\n",
              "    </tr>\n",
              "    <tr>\n",
              "      <th>17769</th>\n",
              "      <td>17770</td>\n",
              "      <td>2003.0</td>\n",
              "      <td>Alien Hunter</td>\n",
              "    </tr>\n",
              "  </tbody>\n",
              "</table>\n",
              "<p>17770 rows × 3 columns</p>\n",
              "</div>"
            ],
            "text/plain": [
              "       MovieID  ...                                               Name\n",
              "0            1  ...                                    Dinosaur Planet\n",
              "1            2  ...                         Isle of Man TT 2004 Review\n",
              "2            3  ...                                          Character\n",
              "3            4  ...                       Paula Abdul's Get Up & Dance\n",
              "4            5  ...                           The Rise and Fall of ECW\n",
              "...        ...  ...                                                ...\n",
              "17765    17766  ...  Where the Wild Things Are and Other Maurice Se...\n",
              "17766    17767  ...                  Fidel Castro: American Experience\n",
              "17767    17768  ...                                              Epoch\n",
              "17768    17769  ...                                        The Company\n",
              "17769    17770  ...                                       Alien Hunter\n",
              "\n",
              "[17770 rows x 3 columns]"
            ]
          },
          "metadata": {
            "tags": []
          },
          "execution_count": 5
        }
      ]
    },
    {
      "cell_type": "markdown",
      "metadata": {
        "id": "ABSHGi-MhgII",
        "colab_type": "text"
      },
      "source": [
        "Now, let's analyze the data."
      ]
    },
    {
      "cell_type": "code",
      "metadata": {
        "id": "dcQ1amPVffS_",
        "colab_type": "code",
        "colab": {
          "base_uri": "https://localhost:8080/",
          "height": 34
        },
        "outputId": "319f60c3-ab94-46a2-fd0f-8b64f809a49a"
      },
      "source": [
        "print(f\"Dataset: {data.shape[0]} movie reviews, {data['MovieID'].nunique()} movies, \" +\n",
        "      f\"{data['CustomerID'].nunique()} customers\")"
      ],
      "execution_count": 6,
      "outputs": [
        {
          "output_type": "stream",
          "text": [
            "Dataset: 24053764 movie reviews, 4499 movies, 470758 customers\n"
          ],
          "name": "stdout"
        }
      ]
    },
    {
      "cell_type": "code",
      "metadata": {
        "id": "F5_EmeYp8qZs",
        "colab_type": "code",
        "colab": {
          "base_uri": "https://localhost:8080/",
          "height": 388
        },
        "outputId": "48982d7d-c9c7-4d8f-d4dc-62b269a3ae87"
      },
      "source": [
        "fig, ax = plt.subplots(figsize=(10, 6))\n",
        "_ = sns.distplot(data['MovieID'], ax=ax)"
      ],
      "execution_count": 7,
      "outputs": [
        {
          "output_type": "display_data",
          "data": {
            "image/png": "[encoded data removed]",
            "text/plain": [
              "<Figure size 720x432 with 1 Axes>"
            ]
          },
          "metadata": {
            "tags": [],
            "needs_background": "light"
          }
        }
      ]
    },
    {
      "cell_type": "code",
      "metadata": {
        "id": "svn7HmSP7yJu",
        "colab_type": "code",
        "colab": {
          "base_uri": "https://localhost:8080/",
          "height": 399
        },
        "outputId": "7de0409b-3d4f-47ca-bb8a-df2e78a0a381"
      },
      "source": [
        "fig, ax = plt.subplots(figsize=(10, 6))\n",
        "_ = sns.countplot(data['Rating'], ax=ax)"
      ],
      "execution_count": 8,
      "outputs": [
        {
          "output_type": "display_data",
          "data": {
            "image/png": "[encoded data removed]",
            "text/plain": [
              "<Figure size 720x432 with 1 Axes>"
            ]
          },
          "metadata": {
            "tags": [],
            "needs_background": "light"
          }
        }
      ]
    },
    {
      "cell_type": "markdown",
      "metadata": {
        "id": "EWVuSNxMvGaX",
        "colab_type": "text"
      },
      "source": [
        "Some movies have more reviews than others and most of the reviews gave a rating of 4. We can think that people tend to not rate a movie when they find it bad."
      ]
    },
    {
      "cell_type": "markdown",
      "metadata": {
        "id": "7Hxg01t2CPVj",
        "colab_type": "text"
      },
      "source": [
        "### Data Trimming\n",
        "\n",
        "We still have too many reviews (memory issues when training) so we only keep movies that have a minimum number of ratings and customers which gave a minimum number of ratings."
      ]
    },
    {
      "cell_type": "code",
      "metadata": {
        "id": "7TfkemaDCNkj",
        "colab_type": "code",
        "colab": {
          "base_uri": "https://localhost:8080/",
          "height": 168
        },
        "outputId": "d66551dd-c918-4e25-91eb-cc1d37a417a6"
      },
      "source": [
        "counts = data['MovieID'].value_counts()\n",
        "counts.describe()"
      ],
      "execution_count": 9,
      "outputs": [
        {
          "output_type": "execute_result",
          "data": {
            "text/plain": [
              "count      4499.000000\n",
              "mean       5346.468993\n",
              "std       16176.313851\n",
              "min          36.000000\n",
              "25%         192.000000\n",
              "50%         552.000000\n",
              "75%        2538.000000\n",
              "max      193941.000000\n",
              "Name: MovieID, dtype: float64"
            ]
          },
          "metadata": {
            "tags": []
          },
          "execution_count": 9
        }
      ]
    },
    {
      "cell_type": "code",
      "metadata": {
        "id": "_fUpoxg7jKyI",
        "colab_type": "code",
        "colab": {
          "base_uri": "https://localhost:8080/",
          "height": 34
        },
        "outputId": "20248e54-bfdd-47e8-fff0-14a38d26303d"
      },
      "source": [
        "thres = counts.quantile(0.6)\n",
        "print(f'Threshold for the min nb of ratings for a movie: {thres}')\n",
        "movie_ids = counts[counts >= thres].index"
      ],
      "execution_count": 10,
      "outputs": [
        {
          "output_type": "stream",
          "text": [
            "Threshold for the min nb of ratings for a movie: 907.7999999999997\n"
          ],
          "name": "stdout"
        }
      ]
    },
    {
      "cell_type": "code",
      "metadata": {
        "id": "-E3WnVRRVsdI",
        "colab_type": "code",
        "colab": {
          "base_uri": "https://localhost:8080/",
          "height": 168
        },
        "outputId": "c3af7ece-4d3f-4663-97a7-224174f1c7b0"
      },
      "source": [
        "counts = data['CustomerID'].value_counts()\n",
        "counts.describe()"
      ],
      "execution_count": 11,
      "outputs": [
        {
          "output_type": "execute_result",
          "data": {
            "text/plain": [
              "count    470758.000000\n",
              "mean         51.095816\n",
              "std          74.405055\n",
              "min           1.000000\n",
              "25%           8.000000\n",
              "50%          24.000000\n",
              "75%          64.000000\n",
              "max        4467.000000\n",
              "Name: CustomerID, dtype: float64"
            ]
          },
          "metadata": {
            "tags": []
          },
          "execution_count": 11
        }
      ]
    },
    {
      "cell_type": "code",
      "metadata": {
        "id": "6Lb5YPjBjTgu",
        "colab_type": "code",
        "colab": {
          "base_uri": "https://localhost:8080/",
          "height": 34
        },
        "outputId": "48f4564f-881e-4a4e-fa1f-87d709d46ff0"
      },
      "source": [
        "thres = counts.quantile(0.6)\n",
        "print(f'Threshold for the min nb of ratings given by a customer: {thres}')\n",
        "cust_ids = counts[counts >= thres].index"
      ],
      "execution_count": 12,
      "outputs": [
        {
          "output_type": "stream",
          "text": [
            "Threshold for the min nb of ratings given by a customer: 36.0\n"
          ],
          "name": "stdout"
        }
      ]
    },
    {
      "cell_type": "code",
      "metadata": {
        "id": "UlNYm2SHfc0r",
        "colab_type": "code",
        "colab": {
          "base_uri": "https://localhost:8080/",
          "height": 402
        },
        "outputId": "ade56289-699b-4a9c-ea0b-5a795ce0bbd8"
      },
      "source": [
        "movie_mask = data['MovieID'].isin(movie_ids)\n",
        "cust_mask = data['CustomerID'].isin(cust_ids)\n",
        "\n",
        "data = data[movie_mask & cust_mask]\n",
        "data"
      ],
      "execution_count": 13,
      "outputs": [
        {
          "output_type": "execute_result",
          "data": {
            "text/html": [
              "<div>\n",
              "<style scoped>\n",
              "    .dataframe tbody tr th:only-of-type {\n",
              "        vertical-align: middle;\n",
              "    }\n",
              "\n",
              "    .dataframe tbody tr th {\n",
              "        vertical-align: top;\n",
              "    }\n",
              "\n",
              "    .dataframe thead th {\n",
              "        text-align: right;\n",
              "    }\n",
              "</style>\n",
              "<table border=\"1\" class=\"dataframe\">\n",
              "  <thead>\n",
              "    <tr style=\"text-align: right;\">\n",
              "      <th></th>\n",
              "      <th>MovieID</th>\n",
              "      <th>CustomerID</th>\n",
              "      <th>Rating</th>\n",
              "      <th>Year</th>\n",
              "      <th>Month</th>\n",
              "      <th>Day</th>\n",
              "    </tr>\n",
              "  </thead>\n",
              "  <tbody>\n",
              "    <tr>\n",
              "      <th>693</th>\n",
              "      <td>3</td>\n",
              "      <td>712664</td>\n",
              "      <td>5</td>\n",
              "      <td>2004</td>\n",
              "      <td>2</td>\n",
              "      <td>1</td>\n",
              "    </tr>\n",
              "    <tr>\n",
              "      <th>694</th>\n",
              "      <td>3</td>\n",
              "      <td>1331154</td>\n",
              "      <td>4</td>\n",
              "      <td>2004</td>\n",
              "      <td>7</td>\n",
              "      <td>3</td>\n",
              "    </tr>\n",
              "    <tr>\n",
              "      <th>695</th>\n",
              "      <td>3</td>\n",
              "      <td>2632461</td>\n",
              "      <td>3</td>\n",
              "      <td>2005</td>\n",
              "      <td>7</td>\n",
              "      <td>22</td>\n",
              "    </tr>\n",
              "    <tr>\n",
              "      <th>696</th>\n",
              "      <td>3</td>\n",
              "      <td>44937</td>\n",
              "      <td>5</td>\n",
              "      <td>2004</td>\n",
              "      <td>6</td>\n",
              "      <td>22</td>\n",
              "    </tr>\n",
              "    <tr>\n",
              "      <th>697</th>\n",
              "      <td>3</td>\n",
              "      <td>656399</td>\n",
              "      <td>4</td>\n",
              "      <td>2003</td>\n",
              "      <td>9</td>\n",
              "      <td>20</td>\n",
              "    </tr>\n",
              "    <tr>\n",
              "      <th>...</th>\n",
              "      <td>...</td>\n",
              "      <td>...</td>\n",
              "      <td>...</td>\n",
              "      <td>...</td>\n",
              "      <td>...</td>\n",
              "      <td>...</td>\n",
              "    </tr>\n",
              "    <tr>\n",
              "      <th>24052346</th>\n",
              "      <td>4496</td>\n",
              "      <td>1055714</td>\n",
              "      <td>5</td>\n",
              "      <td>2005</td>\n",
              "      <td>6</td>\n",
              "      <td>20</td>\n",
              "    </tr>\n",
              "    <tr>\n",
              "      <th>24052347</th>\n",
              "      <td>4496</td>\n",
              "      <td>2643029</td>\n",
              "      <td>4</td>\n",
              "      <td>2005</td>\n",
              "      <td>9</td>\n",
              "      <td>10</td>\n",
              "    </tr>\n",
              "    <tr>\n",
              "      <th>24052348</th>\n",
              "      <td>4496</td>\n",
              "      <td>267802</td>\n",
              "      <td>4</td>\n",
              "      <td>2005</td>\n",
              "      <td>9</td>\n",
              "      <td>14</td>\n",
              "    </tr>\n",
              "    <tr>\n",
              "      <th>24052349</th>\n",
              "      <td>4496</td>\n",
              "      <td>1559566</td>\n",
              "      <td>3</td>\n",
              "      <td>2005</td>\n",
              "      <td>11</td>\n",
              "      <td>7</td>\n",
              "    </tr>\n",
              "    <tr>\n",
              "      <th>24052350</th>\n",
              "      <td>4496</td>\n",
              "      <td>293198</td>\n",
              "      <td>3</td>\n",
              "      <td>2005</td>\n",
              "      <td>11</td>\n",
              "      <td>13</td>\n",
              "    </tr>\n",
              "  </tbody>\n",
              "</table>\n",
              "<p>19695836 rows × 6 columns</p>\n",
              "</div>"
            ],
            "text/plain": [
              "          MovieID  CustomerID  Rating  Year  Month  Day\n",
              "693             3      712664       5  2004      2    1\n",
              "694             3     1331154       4  2004      7    3\n",
              "695             3     2632461       3  2005      7   22\n",
              "696             3       44937       5  2004      6   22\n",
              "697             3      656399       4  2003      9   20\n",
              "...           ...         ...     ...   ...    ...  ...\n",
              "24052346     4496     1055714       5  2005      6   20\n",
              "24052347     4496     2643029       4  2005      9   10\n",
              "24052348     4496      267802       4  2005      9   14\n",
              "24052349     4496     1559566       3  2005     11    7\n",
              "24052350     4496      293198       3  2005     11   13\n",
              "\n",
              "[19695836 rows x 6 columns]"
            ]
          },
          "metadata": {
            "tags": []
          },
          "execution_count": 13
        }
      ]
    },
    {
      "cell_type": "code",
      "metadata": {
        "id": "8jnncDs6b8lG",
        "colab_type": "code",
        "colab": {}
      },
      "source": [
        "del counts, movie_ids, cust_ids, movie_mask, cust_mask"
      ],
      "execution_count": 14,
      "outputs": []
    },
    {
      "cell_type": "markdown",
      "metadata": {
        "id": "cVdc8FP6-lEA",
        "colab_type": "text"
      },
      "source": [
        "## Model - Collaborative Filtering\n",
        "\n"
      ]
    },
    {
      "cell_type": "code",
      "metadata": {
        "id": "ICmFu5KZ-j_x",
        "colab_type": "code",
        "colab": {}
      },
      "source": [
        "reader = Reader()\n",
        "dataset = Dataset.load_from_df(data[['CustomerID', 'MovieID', 'Rating']], reader)\n",
        "algo = SVD() # Default 100 factors"
      ],
      "execution_count": 15,
      "outputs": []
    },
    {
      "cell_type": "code",
      "metadata": {
        "id": "9f8oZGLY4Tm8",
        "colab_type": "code",
        "colab": {
          "base_uri": "https://localhost:8080/",
          "height": 34
        },
        "outputId": "ee7f2533-a21a-43c2-86b4-6b40db52ff61"
      },
      "source": [
        "train, val = train_test_split(dataset)\n",
        "\n",
        "algo.fit(train)\n",
        "preds = algo.test(val)\n",
        "rmse = accuracy.rmse(preds)"
      ],
      "execution_count": 16,
      "outputs": [
        {
          "output_type": "stream",
          "text": [
            "RMSE: 0.8591\n"
          ],
          "name": "stdout"
        }
      ]
    },
    {
      "cell_type": "markdown",
      "metadata": {
        "id": "5iwTzkmmDS-N",
        "colab_type": "text"
      },
      "source": [
        "In \"average\" (RMSE), the error between the predicted rating and the actual one is smaller than 1, which is not too bad (e.g. it doesn't often give a 4 when it should be 1).\n",
        "\n",
        "Now let us use the predictions to recommend new movies for a customer."
      ]
    },
    {
      "cell_type": "code",
      "metadata": {
        "id": "FHJ93WKizs2d",
        "colab_type": "code",
        "colab": {
          "base_uri": "https://localhost:8080/",
          "height": 402
        },
        "outputId": "b4e10afa-3b44-4dbc-f939-18d86c8224ea"
      },
      "source": [
        "preds = [[pred.uid, pred.iid, pred.r_ui, pred.est] for pred in preds]\n",
        "preds = pd.DataFrame(preds, columns=['CustomerID', 'MovieID', 'Rating', 'Estimation'])\n",
        "preds"
      ],
      "execution_count": 17,
      "outputs": [
        {
          "output_type": "execute_result",
          "data": {
            "text/html": [
              "<div>\n",
              "<style scoped>\n",
              "    .dataframe tbody tr th:only-of-type {\n",
              "        vertical-align: middle;\n",
              "    }\n",
              "\n",
              "    .dataframe tbody tr th {\n",
              "        vertical-align: top;\n",
              "    }\n",
              "\n",
              "    .dataframe thead th {\n",
              "        text-align: right;\n",
              "    }\n",
              "</style>\n",
              "<table border=\"1\" class=\"dataframe\">\n",
              "  <thead>\n",
              "    <tr style=\"text-align: right;\">\n",
              "      <th></th>\n",
              "      <th>CustomerID</th>\n",
              "      <th>MovieID</th>\n",
              "      <th>Rating</th>\n",
              "      <th>Estimation</th>\n",
              "    </tr>\n",
              "  </thead>\n",
              "  <tbody>\n",
              "    <tr>\n",
              "      <th>0</th>\n",
              "      <td>1743758</td>\n",
              "      <td>708</td>\n",
              "      <td>3.0</td>\n",
              "      <td>3.083741</td>\n",
              "    </tr>\n",
              "    <tr>\n",
              "      <th>1</th>\n",
              "      <td>2374977</td>\n",
              "      <td>4306</td>\n",
              "      <td>3.0</td>\n",
              "      <td>3.676550</td>\n",
              "    </tr>\n",
              "    <tr>\n",
              "      <th>2</th>\n",
              "      <td>1287490</td>\n",
              "      <td>1905</td>\n",
              "      <td>3.0</td>\n",
              "      <td>4.631976</td>\n",
              "    </tr>\n",
              "    <tr>\n",
              "      <th>3</th>\n",
              "      <td>470226</td>\n",
              "      <td>2499</td>\n",
              "      <td>1.0</td>\n",
              "      <td>2.908230</td>\n",
              "    </tr>\n",
              "    <tr>\n",
              "      <th>4</th>\n",
              "      <td>1669360</td>\n",
              "      <td>2112</td>\n",
              "      <td>5.0</td>\n",
              "      <td>4.117317</td>\n",
              "    </tr>\n",
              "    <tr>\n",
              "      <th>...</th>\n",
              "      <td>...</td>\n",
              "      <td>...</td>\n",
              "      <td>...</td>\n",
              "      <td>...</td>\n",
              "    </tr>\n",
              "    <tr>\n",
              "      <th>3939163</th>\n",
              "      <td>78516</td>\n",
              "      <td>4302</td>\n",
              "      <td>4.0</td>\n",
              "      <td>3.929362</td>\n",
              "    </tr>\n",
              "    <tr>\n",
              "      <th>3939164</th>\n",
              "      <td>1505206</td>\n",
              "      <td>1145</td>\n",
              "      <td>3.0</td>\n",
              "      <td>4.491240</td>\n",
              "    </tr>\n",
              "    <tr>\n",
              "      <th>3939165</th>\n",
              "      <td>1433425</td>\n",
              "      <td>2809</td>\n",
              "      <td>4.0</td>\n",
              "      <td>3.414798</td>\n",
              "    </tr>\n",
              "    <tr>\n",
              "      <th>3939166</th>\n",
              "      <td>1206843</td>\n",
              "      <td>1646</td>\n",
              "      <td>4.0</td>\n",
              "      <td>2.968020</td>\n",
              "    </tr>\n",
              "    <tr>\n",
              "      <th>3939167</th>\n",
              "      <td>466290</td>\n",
              "      <td>4341</td>\n",
              "      <td>4.0</td>\n",
              "      <td>4.104944</td>\n",
              "    </tr>\n",
              "  </tbody>\n",
              "</table>\n",
              "<p>3939168 rows × 4 columns</p>\n",
              "</div>"
            ],
            "text/plain": [
              "         CustomerID  MovieID  Rating  Estimation\n",
              "0           1743758      708     3.0    3.083741\n",
              "1           2374977     4306     3.0    3.676550\n",
              "2           1287490     1905     3.0    4.631976\n",
              "3            470226     2499     1.0    2.908230\n",
              "4           1669360     2112     5.0    4.117317\n",
              "...             ...      ...     ...         ...\n",
              "3939163       78516     4302     4.0    3.929362\n",
              "3939164     1505206     1145     3.0    4.491240\n",
              "3939165     1433425     2809     4.0    3.414798\n",
              "3939166     1206843     1646     4.0    2.968020\n",
              "3939167      466290     4341     4.0    4.104944\n",
              "\n",
              "[3939168 rows x 4 columns]"
            ]
          },
          "metadata": {
            "tags": []
          },
          "execution_count": 17
        }
      ]
    },
    {
      "cell_type": "code",
      "metadata": {
        "id": "VnjiWfAbFu5v",
        "colab_type": "code",
        "colab": {
          "base_uri": "https://localhost:8080/",
          "height": 720
        },
        "outputId": "821bf9d6-6aee-4c7e-d282-e784fdd16327"
      },
      "source": [
        "def recommend(data, preds, user, top=10, titles=None):\n",
        "    user_preds = preds[preds['CustomerID'] == user].drop(columns='CustomerID')\n",
        "    cust_reviews = data[data['CustomerID'] == user].drop(columns='CustomerID')\n",
        "    prev = cust_reviews[~cust_reviews['MovieID'].isin(user_preds['MovieID'])]\n",
        "    prev = prev.sort_values('Rating', ascending=False).head(top).reset_index(drop=True)\n",
        "    highest = user_preds.sort_values('Estimation', ascending=False).head(top).reset_index(drop=True)\n",
        "\n",
        "    if titles is not None:\n",
        "        prev = pd.merge(prev, titles, on='MovieID')\n",
        "        prev = prev[['MovieID', 'Name', 'Year (release)', 'Rating', 'Year', 'Month', 'Day']]\n",
        "        highest = pd.merge(highest, titles, on='MovieID')\n",
        "        highest = highest[['MovieID', 'Name', 'Year (release)', 'Rating', 'Estimation']]\n",
        "        return prev, highest\n",
        "    else:\n",
        "        return prev[['MovieID', 'Rating', 'Year', 'Month', 'Day']], highest\n",
        "\n",
        "cust_id = 167021\n",
        "hist, recommendations = recommend(data, preds, cust_id, titles=titles)\n",
        "print(f'Top rated movies by customer {cust_id}:')\n",
        "display(hist)\n",
        "print(f'\\nTop recommended movies for customer {cust_id}:')\n",
        "display(recommendations)"
      ],
      "execution_count": 18,
      "outputs": [
        {
          "output_type": "stream",
          "text": [
            "Top rated movies by customer 167021:\n"
          ],
          "name": "stdout"
        },
        {
          "output_type": "display_data",
          "data": {
            "text/html": [
              "<div>\n",
              "<style scoped>\n",
              "    .dataframe tbody tr th:only-of-type {\n",
              "        vertical-align: middle;\n",
              "    }\n",
              "\n",
              "    .dataframe tbody tr th {\n",
              "        vertical-align: top;\n",
              "    }\n",
              "\n",
              "    .dataframe thead th {\n",
              "        text-align: right;\n",
              "    }\n",
              "</style>\n",
              "<table border=\"1\" class=\"dataframe\">\n",
              "  <thead>\n",
              "    <tr style=\"text-align: right;\">\n",
              "      <th></th>\n",
              "      <th>MovieID</th>\n",
              "      <th>Name</th>\n",
              "      <th>Year (release)</th>\n",
              "      <th>Rating</th>\n",
              "      <th>Year</th>\n",
              "      <th>Month</th>\n",
              "      <th>Day</th>\n",
              "    </tr>\n",
              "  </thead>\n",
              "  <tbody>\n",
              "    <tr>\n",
              "      <th>0</th>\n",
              "      <td>1905</td>\n",
              "      <td>Pirates of the Caribbean: The Curse of the Bla...</td>\n",
              "      <td>2003.0</td>\n",
              "      <td>5</td>\n",
              "      <td>2004</td>\n",
              "      <td>1</td>\n",
              "      <td>19</td>\n",
              "    </tr>\n",
              "    <tr>\n",
              "      <th>1</th>\n",
              "      <td>3962</td>\n",
              "      <td>Finding Nemo (Widescreen)</td>\n",
              "      <td>2003.0</td>\n",
              "      <td>5</td>\n",
              "      <td>2003</td>\n",
              "      <td>12</td>\n",
              "      <td>30</td>\n",
              "    </tr>\n",
              "    <tr>\n",
              "      <th>2</th>\n",
              "      <td>3079</td>\n",
              "      <td>The Lion King: Special Edition</td>\n",
              "      <td>1994.0</td>\n",
              "      <td>5</td>\n",
              "      <td>2004</td>\n",
              "      <td>8</td>\n",
              "      <td>19</td>\n",
              "    </tr>\n",
              "    <tr>\n",
              "      <th>3</th>\n",
              "      <td>1220</td>\n",
              "      <td>Man on Fire</td>\n",
              "      <td>2004.0</td>\n",
              "      <td>5</td>\n",
              "      <td>2004</td>\n",
              "      <td>9</td>\n",
              "      <td>20</td>\n",
              "    </tr>\n",
              "    <tr>\n",
              "      <th>4</th>\n",
              "      <td>3605</td>\n",
              "      <td>The Wizard of Oz: Collector's Edition</td>\n",
              "      <td>1939.0</td>\n",
              "      <td>5</td>\n",
              "      <td>2005</td>\n",
              "      <td>11</td>\n",
              "      <td>1</td>\n",
              "    </tr>\n",
              "    <tr>\n",
              "      <th>5</th>\n",
              "      <td>2452</td>\n",
              "      <td>Lord of the Rings: The Fellowship of the Ring</td>\n",
              "      <td>2001.0</td>\n",
              "      <td>5</td>\n",
              "      <td>2003</td>\n",
              "      <td>12</td>\n",
              "      <td>17</td>\n",
              "    </tr>\n",
              "    <tr>\n",
              "      <th>6</th>\n",
              "      <td>3624</td>\n",
              "      <td>The Last Samurai</td>\n",
              "      <td>2003.0</td>\n",
              "      <td>5</td>\n",
              "      <td>2004</td>\n",
              "      <td>6</td>\n",
              "      <td>22</td>\n",
              "    </tr>\n",
              "    <tr>\n",
              "      <th>7</th>\n",
              "      <td>3864</td>\n",
              "      <td>Batman Begins</td>\n",
              "      <td>2005.0</td>\n",
              "      <td>5</td>\n",
              "      <td>2005</td>\n",
              "      <td>11</td>\n",
              "      <td>1</td>\n",
              "    </tr>\n",
              "    <tr>\n",
              "      <th>8</th>\n",
              "      <td>3938</td>\n",
              "      <td>Shrek 2</td>\n",
              "      <td>2004.0</td>\n",
              "      <td>5</td>\n",
              "      <td>2004</td>\n",
              "      <td>11</td>\n",
              "      <td>29</td>\n",
              "    </tr>\n",
              "    <tr>\n",
              "      <th>9</th>\n",
              "      <td>2890</td>\n",
              "      <td>Sleeping Beauty: Special Edition</td>\n",
              "      <td>1959.0</td>\n",
              "      <td>5</td>\n",
              "      <td>2004</td>\n",
              "      <td>9</td>\n",
              "      <td>14</td>\n",
              "    </tr>\n",
              "  </tbody>\n",
              "</table>\n",
              "</div>"
            ],
            "text/plain": [
              "   MovieID                                               Name  ...  Month  Day\n",
              "0     1905  Pirates of the Caribbean: The Curse of the Bla...  ...      1   19\n",
              "1     3962                          Finding Nemo (Widescreen)  ...     12   30\n",
              "2     3079                     The Lion King: Special Edition  ...      8   19\n",
              "3     1220                                        Man on Fire  ...      9   20\n",
              "4     3605              The Wizard of Oz: Collector's Edition  ...     11    1\n",
              "5     2452      Lord of the Rings: The Fellowship of the Ring  ...     12   17\n",
              "6     3624                                   The Last Samurai  ...      6   22\n",
              "7     3864                                      Batman Begins  ...     11    1\n",
              "8     3938                                            Shrek 2  ...     11   29\n",
              "9     2890                   Sleeping Beauty: Special Edition  ...      9   14\n",
              "\n",
              "[10 rows x 7 columns]"
            ]
          },
          "metadata": {
            "tags": []
          }
        },
        {
          "output_type": "stream",
          "text": [
            "\n",
            "Top recommended movies for customer 167021:\n"
          ],
          "name": "stdout"
        },
        {
          "output_type": "display_data",
          "data": {
            "text/html": [
              "<div>\n",
              "<style scoped>\n",
              "    .dataframe tbody tr th:only-of-type {\n",
              "        vertical-align: middle;\n",
              "    }\n",
              "\n",
              "    .dataframe tbody tr th {\n",
              "        vertical-align: top;\n",
              "    }\n",
              "\n",
              "    .dataframe thead th {\n",
              "        text-align: right;\n",
              "    }\n",
              "</style>\n",
              "<table border=\"1\" class=\"dataframe\">\n",
              "  <thead>\n",
              "    <tr style=\"text-align: right;\">\n",
              "      <th></th>\n",
              "      <th>MovieID</th>\n",
              "      <th>Name</th>\n",
              "      <th>Year (release)</th>\n",
              "      <th>Rating</th>\n",
              "      <th>Estimation</th>\n",
              "    </tr>\n",
              "  </thead>\n",
              "  <tbody>\n",
              "    <tr>\n",
              "      <th>0</th>\n",
              "      <td>1495</td>\n",
              "      <td>Alias: Season 1</td>\n",
              "      <td>2001.0</td>\n",
              "      <td>5.0</td>\n",
              "      <td>5.000000</td>\n",
              "    </tr>\n",
              "    <tr>\n",
              "      <th>1</th>\n",
              "      <td>4266</td>\n",
              "      <td>The Passion of the Christ</td>\n",
              "      <td>2004.0</td>\n",
              "      <td>4.0</td>\n",
              "      <td>4.516724</td>\n",
              "    </tr>\n",
              "    <tr>\n",
              "      <th>2</th>\n",
              "      <td>2290</td>\n",
              "      <td>Aladdin: Platinum Edition</td>\n",
              "      <td>1992.0</td>\n",
              "      <td>5.0</td>\n",
              "      <td>4.432841</td>\n",
              "    </tr>\n",
              "    <tr>\n",
              "      <th>3</th>\n",
              "      <td>886</td>\n",
              "      <td>Ray</td>\n",
              "      <td>2004.0</td>\n",
              "      <td>5.0</td>\n",
              "      <td>4.317224</td>\n",
              "    </tr>\n",
              "    <tr>\n",
              "      <th>4</th>\n",
              "      <td>1073</td>\n",
              "      <td>Coach Carter</td>\n",
              "      <td>2005.0</td>\n",
              "      <td>4.0</td>\n",
              "      <td>4.269613</td>\n",
              "    </tr>\n",
              "    <tr>\n",
              "      <th>5</th>\n",
              "      <td>2660</td>\n",
              "      <td>When Harry Met Sally</td>\n",
              "      <td>1989.0</td>\n",
              "      <td>4.0</td>\n",
              "      <td>4.214536</td>\n",
              "    </tr>\n",
              "    <tr>\n",
              "      <th>6</th>\n",
              "      <td>3463</td>\n",
              "      <td>10 Things I Hate About You</td>\n",
              "      <td>1999.0</td>\n",
              "      <td>5.0</td>\n",
              "      <td>4.211375</td>\n",
              "    </tr>\n",
              "    <tr>\n",
              "      <th>7</th>\n",
              "      <td>1615</td>\n",
              "      <td>The American President</td>\n",
              "      <td>1995.0</td>\n",
              "      <td>4.0</td>\n",
              "      <td>4.179418</td>\n",
              "    </tr>\n",
              "    <tr>\n",
              "      <th>8</th>\n",
              "      <td>30</td>\n",
              "      <td>Something's Gotta Give</td>\n",
              "      <td>2003.0</td>\n",
              "      <td>4.0</td>\n",
              "      <td>4.154201</td>\n",
              "    </tr>\n",
              "    <tr>\n",
              "      <th>9</th>\n",
              "      <td>4330</td>\n",
              "      <td>While You Were Sleeping</td>\n",
              "      <td>1995.0</td>\n",
              "      <td>3.0</td>\n",
              "      <td>4.087380</td>\n",
              "    </tr>\n",
              "  </tbody>\n",
              "</table>\n",
              "</div>"
            ],
            "text/plain": [
              "   MovieID                        Name  Year (release)  Rating  Estimation\n",
              "0     1495             Alias: Season 1          2001.0     5.0    5.000000\n",
              "1     4266   The Passion of the Christ          2004.0     4.0    4.516724\n",
              "2     2290   Aladdin: Platinum Edition          1992.0     5.0    4.432841\n",
              "3      886                         Ray          2004.0     5.0    4.317224\n",
              "4     1073                Coach Carter          2005.0     4.0    4.269613\n",
              "5     2660        When Harry Met Sally          1989.0     4.0    4.214536\n",
              "6     3463  10 Things I Hate About You          1999.0     5.0    4.211375\n",
              "7     1615      The American President          1995.0     4.0    4.179418\n",
              "8       30      Something's Gotta Give          2003.0     4.0    4.154201\n",
              "9     4330     While You Were Sleeping          1995.0     3.0    4.087380"
            ]
          },
          "metadata": {
            "tags": []
          }
        }
      ]
    },
    {
      "cell_type": "markdown",
      "metadata": {
        "id": "tYs8V8SfESPw",
        "colab_type": "text"
      },
      "source": [
        "We can see that some recommendations are not the most appropriate (order) but overall, these seem to fit the taste of the customer (all have a real rating of 3+)."
      ]
    }
  ]
}